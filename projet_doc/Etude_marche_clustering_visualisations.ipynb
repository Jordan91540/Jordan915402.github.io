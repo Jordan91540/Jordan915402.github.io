{
 "cells": [
  {
   "cell_type": "markdown",
   "id": "56679717",
   "metadata": {},
   "source": [
    "Nous avons maintenant une idée plus précise de notre jeu de données.  \n",
    "\n",
    "Dans ce notebook nous allons effectuer un clustering sur nos données suivant deux méthodes, la classification hiérarchique ascendante et le K-means, dans le but d'obtenir des groupes de pays avec des caractéristiques similaires.\n",
    "\n",
    "Nous repartons de nos données centrées-réduites et nous utiliserons l'ACP pour visualiser le résultat de notre culstering sur le premier plan factoriel F1F2.\n",
    "L'une des deux méthodes de clustering sera retenue, à partir de laquelle nous analyserons plus en profondeur les clusters."
   ]
  },
  {
   "cell_type": "markdown",
   "id": "dc7ac060",
   "metadata": {},
   "source": [
    "## Sommaire"
   ]
  },
  {
   "cell_type": "markdown",
   "id": "d8906660",
   "metadata": {},
   "source": [
    "* [Étapes préliminaires](#Chapter1)\n",
    "    * [Importation des librairies](#section_1_1)\n",
    "    * [Importation des données](#section_1_2)\n",
    "* [Clustering](#chapter2)\n",
    "    * [Méthode Classification hiérarchique ascendante](#section_2_1)\n",
    "    * [Méthode K-means](#section_2_2)\n",
    "* [Projection nuage des invidivus avec clusters](#chapter3)\n",
    "* [Quelle méthode choisir ?](#chapter4)\n",
    "* [Analyse clusters K-means](#chapter5)\n",
    "* [Conclusion](#chapter6)"
   ]
  },
  {
   "cell_type": "markdown",
   "id": "a0e5c200",
   "metadata": {},
   "source": [
    "## Étapes préliminaires <a class=\"anchor\" id=\"chapter1\"></a>"
   ]
  },
  {
   "cell_type": "markdown",
   "id": "d24b2a67",
   "metadata": {},
   "source": [
    "## Importation des librairies <a class=\"anchor\" id=\"section_1_1\"></a>"
   ]
  },
  {
   "cell_type": "code",
   "execution_count": 1,
   "id": "dfe37115",
   "metadata": {},
   "outputs": [],
   "source": [
    "# Manipulation des données\n",
    "import pandas as pd\n",
    "import numpy as np\n",
    "\n",
    "from sklearn.decomposition import PCA\n",
    "from sklearn.preprocessing import StandardScaler\n",
    "\n",
    "from sklearn import datasets\n",
    "from sklearn import cluster, metrics\n",
    "\n",
    "# Classification ascendante hiérarchique\n",
    "from scipy.cluster.hierarchy import dendrogram, linkage\n",
    "from sklearn.cluster import AgglomerativeClustering\n",
    "\n",
    "# Représentation graphique\n",
    "import matplotlib.pyplot as plt\n",
    "import seaborn as sns\n",
    "%matplotlib inline "
   ]
  },
  {
   "cell_type": "markdown",
   "id": "4f3a0fb9",
   "metadata": {},
   "source": [
    "## Importation des données <a class=\"anchor\" id=\"section_1_2\"></a>"
   ]
  },
  {
   "cell_type": "code",
   "execution_count": 2,
   "id": "6ef5fdc4",
   "metadata": {
    "scrolled": true
   },
   "outputs": [],
   "source": [
    "# On récupère le fichier final issu du nettoyage\n",
    "df_final = pd.read_csv(\"C:/Users/jorda/P9/Data/df_final1.csv\", index_col=0, sep = ',')\n",
    "\n",
    "# On récupère les données centrées-réduites\n",
    "df_X_scaled = pd.read_csv(\"C:/Users/jorda/P9/Data/df_X_scaled.csv\", index_col=0, sep = ',')\n",
    "\n",
    "# On récupère les données pays outliers\n",
    "df_outliers = pd.read_csv(\"C:/Users/jorda/P9/Data/df_outliers.csv\", index_col=0, sep = ',')"
   ]
  },
  {
   "cell_type": "code",
   "execution_count": 3,
   "id": "f8b88a0c",
   "metadata": {
    "scrolled": true
   },
   "outputs": [
    {
     "data": {
      "text/html": [
       "<div>\n",
       "<style scoped>\n",
       "    .dataframe tbody tr th:only-of-type {\n",
       "        vertical-align: middle;\n",
       "    }\n",
       "\n",
       "    .dataframe tbody tr th {\n",
       "        vertical-align: top;\n",
       "    }\n",
       "\n",
       "    .dataframe thead th {\n",
       "        text-align: right;\n",
       "    }\n",
       "</style>\n",
       "<table border=\"1\" class=\"dataframe\">\n",
       "  <thead>\n",
       "    <tr style=\"text-align: right;\">\n",
       "      <th></th>\n",
       "      <th>Population</th>\n",
       "      <th>Disponibilité alimentaire</th>\n",
       "      <th>Disponibilité intérieure</th>\n",
       "      <th>TDI</th>\n",
       "      <th>Ratio_prot_anim</th>\n",
       "      <th>Stabilité politique</th>\n",
       "      <th>PIB_hab</th>\n",
       "    </tr>\n",
       "    <tr>\n",
       "      <th>Pays</th>\n",
       "      <th></th>\n",
       "      <th></th>\n",
       "      <th></th>\n",
       "      <th></th>\n",
       "      <th></th>\n",
       "      <th></th>\n",
       "      <th></th>\n",
       "    </tr>\n",
       "  </thead>\n",
       "  <tbody>\n",
       "    <tr>\n",
       "      <th>Afrique du Sud</th>\n",
       "      <td>0.787957</td>\n",
       "      <td>1.153448</td>\n",
       "      <td>2.323763</td>\n",
       "      <td>-0.361568</td>\n",
       "      <td>0.077922</td>\n",
       "      <td>-0.295113</td>\n",
       "      <td>-0.422512</td>\n",
       "    </tr>\n",
       "    <tr>\n",
       "      <th>Albanie</th>\n",
       "      <td>-0.549078</td>\n",
       "      <td>0.167974</td>\n",
       "      <td>-0.511561</td>\n",
       "      <td>0.473774</td>\n",
       "      <td>0.740833</td>\n",
       "      <td>0.466064</td>\n",
       "      <td>-0.504824</td>\n",
       "    </tr>\n",
       "    <tr>\n",
       "      <th>Algérie</th>\n",
       "      <td>0.402091</td>\n",
       "      <td>-0.902456</td>\n",
       "      <td>-0.196677</td>\n",
       "      <td>-0.754278</td>\n",
       "      <td>-0.912866</td>\n",
       "      <td>-1.033224</td>\n",
       "      <td>-0.525535</td>\n",
       "    </tr>\n",
       "  </tbody>\n",
       "</table>\n",
       "</div>"
      ],
      "text/plain": [
       "                Population  Disponibilité alimentaire  \\\n",
       "Pays                                                    \n",
       "Afrique du Sud    0.787957                   1.153448   \n",
       "Albanie          -0.549078                   0.167974   \n",
       "Algérie           0.402091                  -0.902456   \n",
       "\n",
       "                Disponibilité intérieure       TDI  Ratio_prot_anim  \\\n",
       "Pays                                                                  \n",
       "Afrique du Sud                  2.323763 -0.361568         0.077922   \n",
       "Albanie                        -0.511561  0.473774         0.740833   \n",
       "Algérie                        -0.196677 -0.754278        -0.912866   \n",
       "\n",
       "                Stabilité politique   PIB_hab  \n",
       "Pays                                           \n",
       "Afrique du Sud            -0.295113 -0.422512  \n",
       "Albanie                    0.466064 -0.504824  \n",
       "Algérie                   -1.033224 -0.525535  "
      ]
     },
     "execution_count": 3,
     "metadata": {},
     "output_type": "execute_result"
    }
   ],
   "source": [
    "df_X_scaled.head(3)"
   ]
  },
  {
   "cell_type": "markdown",
   "id": "33d5d311",
   "metadata": {},
   "source": [
    "## Clustering <a class=\"anchor\" id=\"chapter2\"></a>"
   ]
  },
  {
   "cell_type": "markdown",
   "id": "3cb9ae91",
   "metadata": {},
   "source": [
    "## Méthode Classification hiérarchique ascendante (CAH) <a class=\"anchor\" id=\"section_2_1\"></a>"
   ]
  },
  {
   "cell_type": "markdown",
   "id": "6b3ae2ba",
   "metadata": {},
   "source": [
    "Pour la classification hiérarchique ascendante (CAH) on utilise la méthode de Ward. Au départ, chaque point est un cluster puis de manière itérative on regroupe des clusters entre eux de manière à minimiser la diminution de l'intertie inter. On commence par appliquer cette méthode jusqu'à obtenir un seul cluster et on représente le résultat à l'aide d'un dendrogramme."
   ]
  },
  {
   "cell_type": "code",
   "execution_count": 4,
   "id": "94015c55",
   "metadata": {},
   "outputs": [
    {
     "data": {
      "image/png": "[encoded data removed]",
      "text/plain": [
       "<Figure size 1368x720 with 1 Axes>"
      ]
     },
     "metadata": {
      "needs_background": "light"
     },
     "output_type": "display_data"
    }
   ],
   "source": [
    "# On récupère les valeurs du dataframe df_X_scaled\n",
    "X_scaled = df_X_scaled.values\n",
    "\n",
    "# On utilise linkage pour calculer la distance entre les points et les relier entre eux\n",
    "Z = linkage(X_scaled, method=\"ward\")\n",
    "\n",
    "# On représente le linkage réalisé sous forme de dendrogramme\n",
    "plt.figure(figsize=(19, 10))\n",
    "\n",
    "dendrogram(Z)\n",
    "\n",
    "plt.title(\"Dendrogramme, clustering hiérarchique\", fontsize=17)\n",
    "plt.xlabel(\"Index du point\", fontsize=14)\n",
    "plt.ylabel(\"Distance\", fontsize=14)\n",
    "plt.show()"
   ]
  },
  {
   "cell_type": "markdown",
   "id": "a84030d3",
   "metadata": {},
   "source": [
    "Le dendrogramme nous montre la manière dont les regroupements ont été effectués, d'après ce que l'on observe on pourrait diviser notre arbre en trois clusters comme indiqué. Cependant, nous pouvons voir dans les parties oranges et rouges des regroupements effectués entre des groupes de pays ayant une grande distance entre eux, on décide donc de couper notre arbre à une distance de 11 environ et nous obtenons ainsi une partition en 6 clusters.  \n",
    "\n",
    "Maintenant que nous avons déterminé le nombre de clusters adéquat, on lance l'algorithme de clustering pour cette partition."
   ]
  },
  {
   "cell_type": "code",
   "execution_count": 5,
   "id": "521d7227",
   "metadata": {},
   "outputs": [
    {
     "data": {
      "text/plain": [
       "array([1, 4, 0, 1, 0, 4, 1, 1, 0, 1, 5, 0, 4, 3, 4, 4, 2, 4, 0, 4, 0, 0,\n",
       "       4, 0, 0, 0, 0, 1, 1, 2, 5, 1, 4, 1, 0, 4, 0, 4, 0, 5, 4, 1, 0, 4,\n",
       "       4, 1, 4, 0, 3, 1, 4, 5, 1, 0, 0, 0, 4, 4, 0, 0, 2, 4, 0, 0, 4, 0,\n",
       "       3, 1, 0, 5, 5, 1, 1, 4, 1, 0, 4, 0, 0, 4, 4, 0, 4, 0, 0, 4, 5, 0,\n",
       "       0, 1, 0, 0, 4, 0, 4, 0, 1, 4, 4, 0, 1, 0, 0, 4, 0, 3, 5, 5, 0, 0,\n",
       "       3, 4, 0, 2, 1, 1, 1, 4, 0, 1, 0, 4, 0, 0, 4, 1, 0, 4, 4, 4, 4, 0,\n",
       "       0, 0, 0, 4, 4, 0, 0, 5, 5, 0, 0, 0, 4, 1, 0, 4, 0, 0, 1, 0, 4, 0,\n",
       "       0, 1, 0, 0], dtype=int64)"
      ]
     },
     "execution_count": 5,
     "metadata": {},
     "output_type": "execute_result"
    }
   ],
   "source": [
    "# On instancie avec un nombre de cluster égal à 6\n",
    "cah = AgglomerativeClustering(n_clusters=6, linkage=\"ward\")\n",
    "\n",
    "# On fit\n",
    "cah.fit(X_scaled)\n",
    "\n",
    "# On affiche les numéros de clusters attribués à chaque individus\n",
    "cah.labels_"
   ]
  },
  {
   "cell_type": "code",
   "execution_count": 6,
   "id": "70dbaeea",
   "metadata": {},
   "outputs": [
    {
     "data": {
      "text/html": [
       "<div>\n",
       "<style scoped>\n",
       "    .dataframe tbody tr th:only-of-type {\n",
       "        vertical-align: middle;\n",
       "    }\n",
       "\n",
       "    .dataframe tbody tr th {\n",
       "        vertical-align: top;\n",
       "    }\n",
       "\n",
       "    .dataframe thead th {\n",
       "        text-align: right;\n",
       "    }\n",
       "</style>\n",
       "<table border=\"1\" class=\"dataframe\">\n",
       "  <thead>\n",
       "    <tr style=\"text-align: right;\">\n",
       "      <th></th>\n",
       "      <th>Population</th>\n",
       "      <th>Disponibilité alimentaire</th>\n",
       "      <th>Disponibilité intérieure</th>\n",
       "      <th>TDI</th>\n",
       "      <th>Ratio_prot_anim</th>\n",
       "      <th>Stabilité politique</th>\n",
       "      <th>PIB_hab</th>\n",
       "      <th>cluster</th>\n",
       "    </tr>\n",
       "    <tr>\n",
       "      <th>Pays</th>\n",
       "      <th></th>\n",
       "      <th></th>\n",
       "      <th></th>\n",
       "      <th></th>\n",
       "      <th></th>\n",
       "      <th></th>\n",
       "      <th></th>\n",
       "      <th></th>\n",
       "    </tr>\n",
       "  </thead>\n",
       "  <tbody>\n",
       "    <tr>\n",
       "      <th>Afrique du Sud</th>\n",
       "      <td>0.787957</td>\n",
       "      <td>1.153448</td>\n",
       "      <td>2.323763</td>\n",
       "      <td>-0.361568</td>\n",
       "      <td>0.077922</td>\n",
       "      <td>-0.295113</td>\n",
       "      <td>-0.422512</td>\n",
       "      <td>1</td>\n",
       "    </tr>\n",
       "    <tr>\n",
       "      <th>Albanie</th>\n",
       "      <td>-0.549078</td>\n",
       "      <td>0.167974</td>\n",
       "      <td>-0.511561</td>\n",
       "      <td>0.473774</td>\n",
       "      <td>0.740833</td>\n",
       "      <td>0.466064</td>\n",
       "      <td>-0.504824</td>\n",
       "      <td>4</td>\n",
       "    </tr>\n",
       "    <tr>\n",
       "      <th>Algérie</th>\n",
       "      <td>0.402091</td>\n",
       "      <td>-0.902456</td>\n",
       "      <td>-0.196677</td>\n",
       "      <td>-0.754278</td>\n",
       "      <td>-0.912866</td>\n",
       "      <td>-1.033224</td>\n",
       "      <td>-0.525535</td>\n",
       "      <td>0</td>\n",
       "    </tr>\n",
       "  </tbody>\n",
       "</table>\n",
       "</div>"
      ],
      "text/plain": [
       "                Population  Disponibilité alimentaire  \\\n",
       "Pays                                                    \n",
       "Afrique du Sud    0.787957                   1.153448   \n",
       "Albanie          -0.549078                   0.167974   \n",
       "Algérie           0.402091                  -0.902456   \n",
       "\n",
       "                Disponibilité intérieure       TDI  Ratio_prot_anim  \\\n",
       "Pays                                                                  \n",
       "Afrique du Sud                  2.323763 -0.361568         0.077922   \n",
       "Albanie                        -0.511561  0.473774         0.740833   \n",
       "Algérie                        -0.196677 -0.754278        -0.912866   \n",
       "\n",
       "                Stabilité politique   PIB_hab  cluster  \n",
       "Pays                                                    \n",
       "Afrique du Sud            -0.295113 -0.422512        1  \n",
       "Albanie                    0.466064 -0.504824        4  \n",
       "Algérie                   -1.033224 -0.525535        0  "
      ]
     },
     "execution_count": 6,
     "metadata": {},
     "output_type": "execute_result"
    }
   ],
   "source": [
    "# On crée un dataframe à partir des données centrées-réduites\n",
    "df_cah = pd.DataFrame(X_scaled, columns= df_final.columns, index= df_final.index)\n",
    "\n",
    "# On ajoute la colonne \"cluster\" avec le numéro de cluster attribué à chaque individus\n",
    "df_cah[\"cluster\"] = cah.labels_\n",
    "df_cah.head(3)"
   ]
  },
  {
   "cell_type": "markdown",
   "id": "811bc092",
   "metadata": {},
   "source": [
    "## Méthode K-means <a class=\"anchor\" id=\"section_2_2\"></a>"
   ]
  },
  {
   "cell_type": "markdown",
   "id": "64057672",
   "metadata": {},
   "source": [
    "Pour cette méthode on commence par placer aléatoirement un nombre de centroïdes (centre de gravité) égal au nombre de clusters souhaité, parmis nos points. Ensuite on regroupe les points les plus proches de chaque centroïde, on calcul la position du nouveau centre de gravité et on déplace le centroïde sur la nouvelle position. On répète ce proccessus de manière itérative jusqu'à convergence de l'algorithme.\n",
    "\n",
    "Pour déterminer le nombre de cluster adéquat on fait fonctionner l'algorithme pour différents nombres de cluster et on choisit celui avec les meilleurs résultats.  \n",
    "On regarde tout d'abord le coefficient de silhouette."
   ]
  },
  {
   "cell_type": "code",
   "execution_count": 7,
   "id": "12bdce4d",
   "metadata": {},
   "outputs": [
    {
     "data": {
      "image/png": "[encoded data removed]",
      "text/plain": [
       "<Figure size 432x288 with 1 Axes>"
      ]
     },
     "metadata": {
      "needs_background": "light"
     },
     "output_type": "display_data"
    }
   ],
   "source": [
    "# On crée une liste vide\n",
    "silhouette = []\n",
    "\n",
    "# Pour chaque tour de boucle on lance l'algorithme du kmeans pour un nombre de clusters donnée et on calcul le silhouette score\n",
    "# Puis on stocke la valeur dans la liste sihlouette\n",
    "for i in range(2, 10):\n",
    "    cls = cluster.KMeans(n_clusters= i, n_init=10, init='random', random_state= 10).fit(X_scaled)\n",
    "    \n",
    "    silh = metrics.silhouette_score(X_scaled, cls.labels_)\n",
    "    silhouette.append(silh)\n",
    "\n",
    "# On affiche le silhouette score pour chaque nombre de cluster\n",
    "plt.plot(range(2, 10), silhouette, marker=\"*\")\n",
    "plt.xlabel(\"Nombre de clusters\")\n",
    "plt.ylabel(\"Coefficient de silhouette\")\n",
    "plt.title(\"Coefficient de silhouette en fonction du nombre de clusters\")\n",
    "plt.show()"
   ]
  },
  {
   "cell_type": "markdown",
   "id": "0351c40f",
   "metadata": {},
   "source": [
    "Un regroupement avec 6 clusters possède le plus haut coefficient de silhouette et serait donc le plus approprié.  \n",
    "\n",
    "Il est également possible d'utiliser la méthode du coude, pour cela on commence par représenter l'inertie pour chaque nombre de clusters."
   ]
  },
  {
   "cell_type": "code",
   "execution_count": 8,
   "id": "7e3f3679",
   "metadata": {},
   "outputs": [
    {
     "data": {
      "image/png": "[encoded data removed]",
      "text/plain": [
       "<Figure size 432x288 with 1 Axes>"
      ]
     },
     "metadata": {
      "needs_background": "light"
     },
     "output_type": "display_data"
    }
   ],
   "source": [
    "# On crée une liste vide\n",
    "inertie = []\n",
    "\n",
    "# Pour chaque tour de boucle on lance l'algorithme du kmeans pour un nombre de clusters donnée et on calcul l'inertie\n",
    "# Puis on stocke la valeur dans la liste inertie\n",
    "for i in range(2, 10):\n",
    "    model = cluster.KMeans(n_clusters= i, n_init= 10, init='random', random_state= 10).fit(X_scaled)\n",
    "    inertie.append(model.inertia_)\n",
    "\n",
    "# On affiche l'inertie pour chaque nombre de clusters\n",
    "plt.plot(range(2, 10), inertie)\n",
    "plt.xlabel(\"Nombre de clusters\")\n",
    "plt.ylabel(\"Inertie\")\n",
    "plt.title(\"Représentation de l'inertie en fonction du nombre de clusters\")\n",
    "plt.show()"
   ]
  },
  {
   "cell_type": "markdown",
   "id": "456c6641",
   "metadata": {},
   "source": [
    "On observe un coude pour un nombre de 6 clusters ce qui est cohérent avec le coefficient de silhouette. Cette donc cette partition qui est retenue."
   ]
  },
  {
   "cell_type": "code",
   "execution_count": 9,
   "id": "70704ae3",
   "metadata": {},
   "outputs": [
    {
     "data": {
      "text/plain": [
       "KMeans(init='random', n_clusters=6, random_state=10)"
      ]
     },
     "execution_count": 9,
     "metadata": {},
     "output_type": "execute_result"
    }
   ],
   "source": [
    "# On instancie l'algorithme pour 6 clusters\n",
    "cls = cluster.KMeans(n_clusters=6, n_init=10, init='random', random_state= 10)\n",
    "\n",
    "# On fit\n",
    "cls.fit(X_scaled)"
   ]
  },
  {
   "cell_type": "code",
   "execution_count": 10,
   "id": "f6d409e0",
   "metadata": {},
   "outputs": [
    {
     "data": {
      "text/html": [
       "<div>\n",
       "<style scoped>\n",
       "    .dataframe tbody tr th:only-of-type {\n",
       "        vertical-align: middle;\n",
       "    }\n",
       "\n",
       "    .dataframe tbody tr th {\n",
       "        vertical-align: top;\n",
       "    }\n",
       "\n",
       "    .dataframe thead th {\n",
       "        text-align: right;\n",
       "    }\n",
       "</style>\n",
       "<table border=\"1\" class=\"dataframe\">\n",
       "  <thead>\n",
       "    <tr style=\"text-align: right;\">\n",
       "      <th></th>\n",
       "      <th>Population</th>\n",
       "      <th>Disponibilité alimentaire</th>\n",
       "      <th>Disponibilité intérieure</th>\n",
       "      <th>TDI</th>\n",
       "      <th>Ratio_prot_anim</th>\n",
       "      <th>Stabilité politique</th>\n",
       "      <th>PIB_hab</th>\n",
       "      <th>cluster</th>\n",
       "    </tr>\n",
       "    <tr>\n",
       "      <th>Pays</th>\n",
       "      <th></th>\n",
       "      <th></th>\n",
       "      <th></th>\n",
       "      <th></th>\n",
       "      <th></th>\n",
       "      <th></th>\n",
       "      <th></th>\n",
       "      <th></th>\n",
       "    </tr>\n",
       "  </thead>\n",
       "  <tbody>\n",
       "    <tr>\n",
       "      <th>Afrique du Sud</th>\n",
       "      <td>0.787957</td>\n",
       "      <td>1.153448</td>\n",
       "      <td>2.323763</td>\n",
       "      <td>-0.361568</td>\n",
       "      <td>0.077922</td>\n",
       "      <td>-0.295113</td>\n",
       "      <td>-0.422512</td>\n",
       "      <td>3</td>\n",
       "    </tr>\n",
       "    <tr>\n",
       "      <th>Albanie</th>\n",
       "      <td>-0.549078</td>\n",
       "      <td>0.167974</td>\n",
       "      <td>-0.511561</td>\n",
       "      <td>0.473774</td>\n",
       "      <td>0.740833</td>\n",
       "      <td>0.466064</td>\n",
       "      <td>-0.504824</td>\n",
       "      <td>0</td>\n",
       "    </tr>\n",
       "    <tr>\n",
       "      <th>Algérie</th>\n",
       "      <td>0.402091</td>\n",
       "      <td>-0.902456</td>\n",
       "      <td>-0.196677</td>\n",
       "      <td>-0.754278</td>\n",
       "      <td>-0.912866</td>\n",
       "      <td>-1.033224</td>\n",
       "      <td>-0.525535</td>\n",
       "      <td>1</td>\n",
       "    </tr>\n",
       "  </tbody>\n",
       "</table>\n",
       "</div>"
      ],
      "text/plain": [
       "                Population  Disponibilité alimentaire  \\\n",
       "Pays                                                    \n",
       "Afrique du Sud    0.787957                   1.153448   \n",
       "Albanie          -0.549078                   0.167974   \n",
       "Algérie           0.402091                  -0.902456   \n",
       "\n",
       "                Disponibilité intérieure       TDI  Ratio_prot_anim  \\\n",
       "Pays                                                                  \n",
       "Afrique du Sud                  2.323763 -0.361568         0.077922   \n",
       "Albanie                        -0.511561  0.473774         0.740833   \n",
       "Algérie                        -0.196677 -0.754278        -0.912866   \n",
       "\n",
       "                Stabilité politique   PIB_hab  cluster  \n",
       "Pays                                                    \n",
       "Afrique du Sud            -0.295113 -0.422512        3  \n",
       "Albanie                    0.466064 -0.504824        0  \n",
       "Algérie                   -1.033224 -0.525535        1  "
      ]
     },
     "execution_count": 10,
     "metadata": {},
     "output_type": "execute_result"
    }
   ],
   "source": [
    "# On crée un dataframe à partir des données centrées-réduites\n",
    "df_k_means = pd.DataFrame(X_scaled, columns= df_final.columns, index= df_final.index)\n",
    "\n",
    "# On ajoute la colonne \"cluster\" avec le numéro de cluster pour chaque individus\n",
    "df_k_means[\"cluster\"] = cls.labels_\n",
    "df_k_means.head(3)"
   ]
  },
  {
   "cell_type": "markdown",
   "id": "234490bb",
   "metadata": {},
   "source": [
    "Maintenant que le clustering est réalisé suivant les deux méthodes, nous procédons à une analyse en composantes principales (ACP) pour visualiser les résultats sur le premier plan factoriel F1-F2."
   ]
  },
  {
   "cell_type": "markdown",
   "id": "c8ce07e9",
   "metadata": {},
   "source": [
    "## Projection du nuage des individus sur F1 F2 avec les clusters CAH et Kmeans <a class=\"anchor\" id=\"chapter3\"></a>"
   ]
  },
  {
   "cell_type": "code",
   "execution_count": 11,
   "id": "0fd8662f",
   "metadata": {},
   "outputs": [],
   "source": [
    "# On instancie\n",
    "pca = PCA(n_components= 2)\n",
    "\n",
    "# On entraine\n",
    "pca.fit(X_scaled)\n",
    "\n",
    "# projeter X_scaled sur les composantes principales\n",
    "X_proj = pca.transform(X_scaled)"
   ]
  },
  {
   "cell_type": "code",
   "execution_count": 12,
   "id": "165be7dc",
   "metadata": {
    "scrolled": false
   },
   "outputs": [
    {
     "data": {
      "image/png": "[encoded data removed]",
      "text/plain": [
       "<Figure size 1152x576 with 2 Axes>"
      ]
     },
     "metadata": {
      "needs_background": "light"
     },
     "output_type": "display_data"
    }
   ],
   "source": [
    "# On ajoute au dataframe X_proj une colonne avec les clusters de la CAH\n",
    "X_proj_cah = pd.DataFrame(X_proj, columns = [\"F1\", \"F2\"], index = df_final.index)\n",
    "X_proj_cah[\"cluster\"] = cah.labels_\n",
    "\n",
    "# On ajoute au dataframe X_proj une colonne avec les clusters du Kmeans\n",
    "X_proj_kmeans = pd.DataFrame(X_proj, columns = [\"F1\", \"F2\"], index = df_final.index)\n",
    "X_proj_kmeans[\"cluster\"] = cls.labels_\n",
    "\n",
    "# On récupère les controides du kmeans et on calcul leurs coordonnées sur F1 et F2\n",
    "centroids = cls.cluster_centers_\n",
    "centroids_proj = pca.transform(centroids)\n",
    "centroids_proj = pd.DataFrame(centroids_proj, \n",
    "                              columns = [\"F1\", \"F2\"], \n",
    "                              index=[\"cluster_0\", \"cluster_1\", \"cluster_2\", \"cluster_3\", \"cluster_4\", \"cluster_5\"])\n",
    "\n",
    "# On représente nos individus sur le premier plan factoriel\n",
    "plt.figure(figsize=(16, 8))\n",
    "\n",
    "# Projection avec les clusters de la classification hiérarchique\n",
    "plt.subplot(121)\n",
    "plt.title(\"Projection des individus (clusters CAH)\", fontsize=15)\n",
    "\n",
    "# nom des axes, avec le pourcentage d'inertie expliqué\n",
    "plt.xlabel('F{} ({}%)'.format(1, round(100*pca.explained_variance_ratio_[0],1)), fontsize= 14)\n",
    "plt.ylabel('F{} ({}%)'.format(2, round(100*pca.explained_variance_ratio_[1],1)), fontsize= 14)\n",
    "\n",
    "sns.scatterplot(data= X_proj_cah, x=\"F1\", y=\"F2\", hue=\"cluster\", palette=\"muted\") # Nuage des individus\n",
    "\n",
    "# Projections avec les clusters du K-means\n",
    "plt.subplot(122)\n",
    "plt.title(\"Projection des individus (clusters K-means)\", fontsize=15)\n",
    "\n",
    "# nom des axes, avec le pourcentage d'inertie expliqué\n",
    "plt.xlabel('F{} ({}%)'.format(1, round(100*pca.explained_variance_ratio_[0],1)), fontsize= 14)\n",
    "plt.ylabel('F{} ({}%)'.format(2, round(100*pca.explained_variance_ratio_[1],1)), fontsize= 14)\n",
    "\n",
    "sns.scatterplot(data= X_proj_kmeans, x=\"F1\", y=\"F2\", hue=\"cluster\", palette=\"muted\") # Nuage des individus\n",
    "sns.scatterplot(data= centroids_proj, x=\"F1\", y=\"F2\", marker=\"s\", color=\"black\", s=33) # On affiche les centroïdes\n",
    "\n",
    "plt.show()"
   ]
  },
  {
   "cell_type": "markdown",
   "id": "920b411c",
   "metadata": {},
   "source": [
    "On observe que les clusters ne se chevauchent pas sur F1F2, et le clustering semble assez similaire d'une méthode à l'autre.\n",
    "\n",
    "Les pays des clusters 1 et 3 (CAH) et 2 et 3 (Kmeans) sont dans la partie haute est représenteraient les plus gros marchés d'après le cercle des corrélations.\n",
    "De plus, parmis les marchés de plus petite taille, ceux des cluster 0 (classification) et 1 (Kmeans) auront tendance à avoir des situations politico-économique et un régime alimentaire moins indiqués pour l'exportation des poulets."
   ]
  },
  {
   "cell_type": "markdown",
   "id": "060206cf",
   "metadata": {},
   "source": [
    "## Quelle méthode de clustering choisir ? <a class=\"anchor\" id=\"chapter4\"></a>"
   ]
  },
  {
   "cell_type": "markdown",
   "id": "84136d21",
   "metadata": {},
   "source": [
    "Nous avons appliqué deux méthodes de clusterings, classification ascendante hiérarchique et Kmeans, nous devons maintenant choisir quel ensemble de clusters analyser plus spécifiquement.\n",
    "\n",
    "Pour ce faire, nous comparons la qualité de clustering des deux méthodes (pour 6 clusters) à l'aide de l'indice de Davis-Bouldin (indice proche de 0 = bonne qualité) et du silhouette score (ici on veut un score élevé)."
   ]
  },
  {
   "cell_type": "code",
   "execution_count": 13,
   "id": "e27a423d",
   "metadata": {},
   "outputs": [
    {
     "name": "stdout",
     "output_type": "stream",
     "text": [
      "\u001b[1mIndice de Davies-Bouldin:\u001b[0m\n",
      "Classification hiérarchique: 1.037\n",
      "Kmeans: 1.038\n",
      "----------------------------------\n",
      "\u001b[1mCoefficient de silhouette:\u001b[0m\n",
      "Classification hiérarchique: 0.287\n",
      "Kmeans: 0.323\n"
     ]
    }
   ],
   "source": [
    "# Calcul de l'indice de Davies-Bouldin\n",
    "print(\"\\033[1mIndice de Davies-Bouldin:\\033[0m\")\n",
    "print(\"Classification hiérarchique:\", round(metrics.davies_bouldin_score(X_scaled, cah.labels_), 3))\n",
    "print(\"Kmeans:\", round(metrics.davies_bouldin_score(X_scaled, cls.labels_), 3))\n",
    "\n",
    "print(\"----------------------------------\")\n",
    "\n",
    "# Calcul du coefficient de silhouette\n",
    "print(\"\\033[1mCoefficient de silhouette:\\033[0m\")\n",
    "print(\"Classification hiérarchique:\", round(metrics.silhouette_score(X_scaled, cah.labels_), 3))\n",
    "print(\"Kmeans:\", round(metrics.silhouette_score(X_scaled, cls.labels_), 3))"
   ]
  },
  {
   "cell_type": "markdown",
   "id": "3c1e433d",
   "metadata": {},
   "source": [
    "Pour 6 clusters, l'indice de Davies-Bouldin est similaire pour les deux méthodes mais le coefficient de silhouette du K-means est supèrieur à celui de la classification hiérarchique. À partir de ces informations, on décide de poursuivre l'analyse avec les clusters du K-means."
   ]
  },
  {
   "cell_type": "markdown",
   "id": "e848d7eb",
   "metadata": {},
   "source": [
    "## Analyse des clusters du K-means <a class=\"anchor\" id=\"chapter5\"></a>"
   ]
  },
  {
   "cell_type": "code",
   "execution_count": 14,
   "id": "603df597",
   "metadata": {
    "scrolled": true
   },
   "outputs": [
    {
     "data": {
      "text/html": [
       "<div>\n",
       "<style scoped>\n",
       "    .dataframe tbody tr th:only-of-type {\n",
       "        vertical-align: middle;\n",
       "    }\n",
       "\n",
       "    .dataframe tbody tr th {\n",
       "        vertical-align: top;\n",
       "    }\n",
       "\n",
       "    .dataframe thead th {\n",
       "        text-align: right;\n",
       "    }\n",
       "</style>\n",
       "<table border=\"1\" class=\"dataframe\">\n",
       "  <thead>\n",
       "    <tr style=\"text-align: right;\">\n",
       "      <th></th>\n",
       "      <th>Population</th>\n",
       "      <th>Disponibilité alimentaire</th>\n",
       "      <th>Disponibilité intérieure</th>\n",
       "      <th>TDI</th>\n",
       "      <th>Ratio_prot_anim</th>\n",
       "      <th>Stabilité politique</th>\n",
       "      <th>PIB_hab</th>\n",
       "      <th>cluster</th>\n",
       "    </tr>\n",
       "    <tr>\n",
       "      <th>Pays</th>\n",
       "      <th></th>\n",
       "      <th></th>\n",
       "      <th></th>\n",
       "      <th></th>\n",
       "      <th></th>\n",
       "      <th></th>\n",
       "      <th></th>\n",
       "      <th></th>\n",
       "    </tr>\n",
       "  </thead>\n",
       "  <tbody>\n",
       "    <tr>\n",
       "      <th>Afrique du Sud</th>\n",
       "      <td>0.787957</td>\n",
       "      <td>1.153448</td>\n",
       "      <td>2.323763</td>\n",
       "      <td>-0.361568</td>\n",
       "      <td>0.077922</td>\n",
       "      <td>-0.295113</td>\n",
       "      <td>-0.422512</td>\n",
       "      <td>3</td>\n",
       "    </tr>\n",
       "    <tr>\n",
       "      <th>Albanie</th>\n",
       "      <td>-0.549078</td>\n",
       "      <td>0.167974</td>\n",
       "      <td>-0.511561</td>\n",
       "      <td>0.473774</td>\n",
       "      <td>0.740833</td>\n",
       "      <td>0.466064</td>\n",
       "      <td>-0.504824</td>\n",
       "      <td>0</td>\n",
       "    </tr>\n",
       "    <tr>\n",
       "      <th>Algérie</th>\n",
       "      <td>0.402091</td>\n",
       "      <td>-0.902456</td>\n",
       "      <td>-0.196677</td>\n",
       "      <td>-0.754278</td>\n",
       "      <td>-0.912866</td>\n",
       "      <td>-1.033224</td>\n",
       "      <td>-0.525535</td>\n",
       "      <td>1</td>\n",
       "    </tr>\n",
       "  </tbody>\n",
       "</table>\n",
       "</div>"
      ],
      "text/plain": [
       "                Population  Disponibilité alimentaire  \\\n",
       "Pays                                                    \n",
       "Afrique du Sud    0.787957                   1.153448   \n",
       "Albanie          -0.549078                   0.167974   \n",
       "Algérie           0.402091                  -0.902456   \n",
       "\n",
       "                Disponibilité intérieure       TDI  Ratio_prot_anim  \\\n",
       "Pays                                                                  \n",
       "Afrique du Sud                  2.323763 -0.361568         0.077922   \n",
       "Albanie                        -0.511561  0.473774         0.740833   \n",
       "Algérie                        -0.196677 -0.754278        -0.912866   \n",
       "\n",
       "                Stabilité politique   PIB_hab  cluster  \n",
       "Pays                                                    \n",
       "Afrique du Sud            -0.295113 -0.422512        3  \n",
       "Albanie                    0.466064 -0.504824        0  \n",
       "Algérie                   -1.033224 -0.525535        1  "
      ]
     },
     "execution_count": 14,
     "metadata": {},
     "output_type": "execute_result"
    }
   ],
   "source": [
    "df_k_means.head(3)"
   ]
  },
  {
   "cell_type": "code",
   "execution_count": 15,
   "id": "0a7411b0",
   "metadata": {},
   "outputs": [
    {
     "data": {
      "image/png": "[encoded data removed]",
      "text/plain": [
       "<Figure size 1368x1008 with 7 Axes>"
      ]
     },
     "metadata": {
      "needs_background": "light"
     },
     "output_type": "display_data"
    }
   ],
   "source": [
    "# Création de boxplot\n",
    "plt.figure(figsize=(19, 14))\n",
    "\n",
    "sns.set(style=\"whitegrid\")\n",
    "\n",
    "plt.subplot(331)\n",
    "sns.boxplot(data=df_k_means, x=\"cluster\", y=\"Population\")\n",
    "\n",
    "plt.subplot(332)\n",
    "sns.boxplot(data=df_k_means, x=\"cluster\", y=\"Disponibilité alimentaire\")\n",
    "\n",
    "plt.subplot(333)\n",
    "sns.boxplot(data=df_k_means, x=\"cluster\", y=\"Disponibilité intérieure\")\n",
    "\n",
    "plt.subplot(334)\n",
    "sns.boxplot(data=df_k_means, x=\"cluster\", y=\"TDI\")\n",
    "\n",
    "plt.subplot(335)\n",
    "sns.boxplot(data=df_k_means, x=\"cluster\", y=\"Ratio_prot_anim\")\n",
    "\n",
    "plt.subplot(336)\n",
    "sns.boxplot(data=df_k_means, x=\"cluster\", y=\"Stabilité politique\")\n",
    "\n",
    "plt.subplot(337)\n",
    "sns.boxplot(data=df_k_means, x=\"cluster\", y=\"PIB_hab\")\n",
    "\n",
    "plt.show()"
   ]
  },
  {
   "cell_type": "code",
   "execution_count": 16,
   "id": "e185d988",
   "metadata": {
    "scrolled": false
   },
   "outputs": [
    {
     "data": {
      "image/png": "[encoded data removed]",
      "text/plain": [
       "<Figure size 576x432 with 2 Axes>"
      ]
     },
     "metadata": {},
     "output_type": "display_data"
    }
   ],
   "source": [
    "df_centroids = pd.DataFrame(centroids, \n",
    "                              columns = df_final.columns, \n",
    "                              index=[\"0\", \"1\", \"2\", \"3\", \"4\", \"5\"])\n",
    "\n",
    "# Création heatmap entre centroïdes et variables initiales\n",
    "plt.figure(figsize=(8, 6))\n",
    "\n",
    "sns.heatmap(df_centroids, annot=True, cmap=\"coolwarm\", fmt=\"0.2f\")\n",
    "plt.title(\"Heatmap entre centroïdes et variables initiales\", fontsize=17)\n",
    "plt.xlabel(\"Variables initiales\", fontsize=12)\n",
    "plt.ylabel(\"Centroïdes\", fontsize=12)\n",
    "plt.show()"
   ]
  },
  {
   "cell_type": "markdown",
   "id": "8a24e8e6",
   "metadata": {},
   "source": [
    "### Observations"
   ]
  },
  {
   "cell_type": "markdown",
   "id": "fc2857da",
   "metadata": {},
   "source": [
    "À l'aide du nuage de point, des boxplot et de la heatmap ci-dessus nous pouvons décrire les clusters ainsi:  \n",
    "\n",
    "\n",
    "#### <span style='color:SteelBlue'> Cluster 0  </span>\n",
    "-  Populations et disponibilités intérieure faible.\n",
    "-  Taux de dépendance aux importations relativement élevé.\n",
    "-  PIB faible et stabilité politique élevée.\n",
    "-  Disponibilité alimentaire et part des protéines animales dans l'alimentation élevées.  \n",
    "\n",
    "\n",
    "#### <span style='color: Peru'> Cluster 1  </span> \n",
    "\n",
    "-  Populations et disponibilités intérieure faible. \n",
    "-  Taux de dépendance aux importations faible.\n",
    "-  PIB des plus faibles et stabilité politique faible.\n",
    "-  Disponibilité alimentaire et part de protéines animales très faibles.\n",
    "\n",
    "#### <span style='color:SeaGreen'> Cluster 2  </span>  \n",
    "\n",
    "-  Populations les plus élevées et disponibilités intérieures élevées. \n",
    "-  Taux de dépendance aux importations des plus faibles.\n",
    "-  PIB et stabilité politique des plus faibles.\n",
    "-  Disponibilité alimentaire et part des protéines animales dans l'alimentation des plus faibles.  \n",
    "\n",
    "\n",
    "#### <span style='color:Brown'> Cluster 3  </span>  \n",
    "\n",
    "-  Populations élevées et disponibilités intérieures élevées. \n",
    "-  Taux de dépendance aux importations très faible.\n",
    "-  PIB et stabilité politique relativement faibles.\n",
    "-  Disponibilité alimentaire et part des protéines animales élevés.  \n",
    "\n",
    "#### <span style='color:RebeccaPurple'> Cluster 4  </span>  \n",
    "\n",
    "-  Populations et disponibilités intérieures faibles. \n",
    "-  Taux de dépendance aux importations relativement élevé.\n",
    "-  PIB les plus importants et stabilité politique des plus élevée.\n",
    "-  Disponibilité alimentaire et part des protéines animales élevées. \n",
    "\n",
    "#### <span style='color:RosyBrown'> Cluster 5  </span>  \n",
    "\n",
    "-  Populations et disponibilités intérieures faibles. \n",
    "-  Taux de dépendance aux importations des plus élevés.\n",
    "-  PIB faible (médiane très faible) et stabilité politique relativement élevée.\n",
    "-  Disponibilité alimentaire et part des protéines animale faibles. \n",
    "\n",
    "#### Quel groupe de pays retenir ?  \n",
    "\n",
    "Les clusters 2 et 3 sont composés de pays à fortes populations, ce qui indiquerai un grands nombre de consommateurs potentiels. Cependant, leurs faibles TDI et/ou PIB_hab ne nous permettent pas de retenir ces groupes de pays. De plus, les pays du cluster 2 ont un régime alimentaire qui n'est pas adapté.\n",
    "\n",
    "Le clusters 1 est également écarté en raison des ses trop faibles TDI et PIB_hab.\n",
    "\n",
    "Le cluster 5 se distingue par ses TDI très élevés mais les pays de ce clusters sont trop disparates (nuage de points) et peu nombreux et au moins la moitié a des PIB_hab, Population et Disponibilité intérieure parmis les plus faibles (médianes très basses au niveau du boxplot). Cela signifie que dans ce groupe de pays déja restreint (7 pays), une petite part seulement pourrai être intéressante pour poursuivre l'étude de marché. On décide donc de ne pas retenir ce groupe.\n",
    "\n",
    "Les pays des clusters 0 et 4 semblent les plus intéressants.  \n",
    "-  Leurs habitants sont des gros consommateurs de volailles (fortes disponibilités alimentaires et part de protéines animales). \n",
    "-  Ils ont des stabilités politiques des plus élevées, ce qui permettera de trouver plus facilement des partenaires commerciaux.\n",
    "-  Il ont des taux de dépendance aux importations acceptables relativement à d'autre groupes de pays.  \n",
    "\n",
    "Parmis ces deux clusters, on choisit de se concentrer sur les pays du cluster 4. Ces pays ont des PIB_hab nettement plus importants que ceux du cluster 0 (distribution de valeurs supérieure et valeurs du centroïde très supérieure), il sera donc plus facile de vendre nos produits dans ces pays."
   ]
  },
  {
   "cell_type": "markdown",
   "id": "c6e6480a",
   "metadata": {},
   "source": [
    "### Analyse plus spécifique sur les pays du cluster 4"
   ]
  },
  {
   "cell_type": "code",
   "execution_count": 17,
   "id": "bea70df4",
   "metadata": {
    "scrolled": false
   },
   "outputs": [
    {
     "data": {
      "text/html": [
       "<div>\n",
       "<style scoped>\n",
       "    .dataframe tbody tr th:only-of-type {\n",
       "        vertical-align: middle;\n",
       "    }\n",
       "\n",
       "    .dataframe tbody tr th {\n",
       "        vertical-align: top;\n",
       "    }\n",
       "\n",
       "    .dataframe thead th {\n",
       "        text-align: right;\n",
       "    }\n",
       "</style>\n",
       "<table border=\"1\" class=\"dataframe\">\n",
       "  <thead>\n",
       "    <tr style=\"text-align: right;\">\n",
       "      <th></th>\n",
       "      <th>Population</th>\n",
       "      <th>Disponibilité alimentaire</th>\n",
       "      <th>Disponibilité intérieure</th>\n",
       "      <th>TDI</th>\n",
       "      <th>Ratio_prot_anim</th>\n",
       "      <th>Stabilité politique</th>\n",
       "      <th>PIB_hab</th>\n",
       "    </tr>\n",
       "    <tr>\n",
       "      <th>Pays</th>\n",
       "      <th></th>\n",
       "      <th></th>\n",
       "      <th></th>\n",
       "      <th></th>\n",
       "      <th></th>\n",
       "      <th></th>\n",
       "      <th></th>\n",
       "    </tr>\n",
       "  </thead>\n",
       "  <tbody>\n",
       "    <tr>\n",
       "      <th>Luxembourg</th>\n",
       "      <td>591910.0</td>\n",
       "      <td>69.0</td>\n",
       "      <td>11.0</td>\n",
       "      <td>110.0</td>\n",
       "      <td>62.11</td>\n",
       "      <td>1.33</td>\n",
       "      <td>111017.182246</td>\n",
       "    </tr>\n",
       "    <tr>\n",
       "      <th>Chine - RAS de Macao</th>\n",
       "      <td>622585.0</td>\n",
       "      <td>142.0</td>\n",
       "      <td>19.0</td>\n",
       "      <td>88.5</td>\n",
       "      <td>65.25</td>\n",
       "      <td>1.43</td>\n",
       "      <td>81043.968656</td>\n",
       "    </tr>\n",
       "    <tr>\n",
       "      <th>Irlande</th>\n",
       "      <td>4753279.0</td>\n",
       "      <td>100.0</td>\n",
       "      <td>128.0</td>\n",
       "      <td>85.3</td>\n",
       "      <td>60.52</td>\n",
       "      <td>1.00</td>\n",
       "      <td>70568.302444</td>\n",
       "    </tr>\n",
       "    <tr>\n",
       "      <th>Danemark</th>\n",
       "      <td>5732274.0</td>\n",
       "      <td>112.0</td>\n",
       "      <td>167.0</td>\n",
       "      <td>79.6</td>\n",
       "      <td>66.03</td>\n",
       "      <td>0.87</td>\n",
       "      <td>57938.797728</td>\n",
       "    </tr>\n",
       "    <tr>\n",
       "      <th>Autriche</th>\n",
       "      <td>8819901.0</td>\n",
       "      <td>65.0</td>\n",
       "      <td>173.0</td>\n",
       "      <td>61.1</td>\n",
       "      <td>59.53</td>\n",
       "      <td>1.05</td>\n",
       "      <td>47309.051637</td>\n",
       "    </tr>\n",
       "    <tr>\n",
       "      <th>Suède</th>\n",
       "      <td>9904896.0</td>\n",
       "      <td>61.0</td>\n",
       "      <td>187.0</td>\n",
       "      <td>38.5</td>\n",
       "      <td>64.46</td>\n",
       "      <td>0.98</td>\n",
       "      <td>54621.345824</td>\n",
       "    </tr>\n",
       "    <tr>\n",
       "      <th>Suisse</th>\n",
       "      <td>8455804.0</td>\n",
       "      <td>55.0</td>\n",
       "      <td>133.0</td>\n",
       "      <td>37.0</td>\n",
       "      <td>62.52</td>\n",
       "      <td>1.26</td>\n",
       "      <td>83313.013992</td>\n",
       "    </tr>\n",
       "    <tr>\n",
       "      <th>Islande</th>\n",
       "      <td>334393.0</td>\n",
       "      <td>104.0</td>\n",
       "      <td>10.0</td>\n",
       "      <td>16.7</td>\n",
       "      <td>72.73</td>\n",
       "      <td>1.35</td>\n",
       "      <td>73949.769216</td>\n",
       "    </tr>\n",
       "    <tr>\n",
       "      <th>Canada</th>\n",
       "      <td>36732095.0</td>\n",
       "      <td>154.0</td>\n",
       "      <td>1433.0</td>\n",
       "      <td>12.7</td>\n",
       "      <td>52.93</td>\n",
       "      <td>1.10</td>\n",
       "      <td>44906.748920</td>\n",
       "    </tr>\n",
       "    <tr>\n",
       "      <th>Finlande</th>\n",
       "      <td>5511371.0</td>\n",
       "      <td>68.0</td>\n",
       "      <td>111.0</td>\n",
       "      <td>12.0</td>\n",
       "      <td>63.24</td>\n",
       "      <td>1.08</td>\n",
       "      <td>46385.550876</td>\n",
       "    </tr>\n",
       "    <tr>\n",
       "      <th>Norvège</th>\n",
       "      <td>5296326.0</td>\n",
       "      <td>66.0</td>\n",
       "      <td>102.0</td>\n",
       "      <td>1.9</td>\n",
       "      <td>59.90</td>\n",
       "      <td>1.17</td>\n",
       "      <td>75220.814442</td>\n",
       "    </tr>\n",
       "    <tr>\n",
       "      <th>Australie</th>\n",
       "      <td>24584620.0</td>\n",
       "      <td>192.0</td>\n",
       "      <td>1171.0</td>\n",
       "      <td>1.3</td>\n",
       "      <td>67.29</td>\n",
       "      <td>0.90</td>\n",
       "      <td>57628.863849</td>\n",
       "    </tr>\n",
       "    <tr>\n",
       "      <th>Nouvelle-Zélande</th>\n",
       "      <td>4702034.0</td>\n",
       "      <td>140.0</td>\n",
       "      <td>168.0</td>\n",
       "      <td>0.5</td>\n",
       "      <td>54.82</td>\n",
       "      <td>1.60</td>\n",
       "      <td>43943.484628</td>\n",
       "    </tr>\n",
       "  </tbody>\n",
       "</table>\n",
       "</div>"
      ],
      "text/plain": [
       "                      Population  Disponibilité alimentaire  \\\n",
       "Pays                                                          \n",
       "Luxembourg              591910.0                       69.0   \n",
       "Chine - RAS de Macao    622585.0                      142.0   \n",
       "Irlande                4753279.0                      100.0   \n",
       "Danemark               5732274.0                      112.0   \n",
       "Autriche               8819901.0                       65.0   \n",
       "Suède                  9904896.0                       61.0   \n",
       "Suisse                 8455804.0                       55.0   \n",
       "Islande                 334393.0                      104.0   \n",
       "Canada                36732095.0                      154.0   \n",
       "Finlande               5511371.0                       68.0   \n",
       "Norvège                5296326.0                       66.0   \n",
       "Australie             24584620.0                      192.0   \n",
       "Nouvelle-Zélande       4702034.0                      140.0   \n",
       "\n",
       "                      Disponibilité intérieure    TDI  Ratio_prot_anim  \\\n",
       "Pays                                                                     \n",
       "Luxembourg                                11.0  110.0            62.11   \n",
       "Chine - RAS de Macao                      19.0   88.5            65.25   \n",
       "Irlande                                  128.0   85.3            60.52   \n",
       "Danemark                                 167.0   79.6            66.03   \n",
       "Autriche                                 173.0   61.1            59.53   \n",
       "Suède                                    187.0   38.5            64.46   \n",
       "Suisse                                   133.0   37.0            62.52   \n",
       "Islande                                   10.0   16.7            72.73   \n",
       "Canada                                  1433.0   12.7            52.93   \n",
       "Finlande                                 111.0   12.0            63.24   \n",
       "Norvège                                  102.0    1.9            59.90   \n",
       "Australie                               1171.0    1.3            67.29   \n",
       "Nouvelle-Zélande                         168.0    0.5            54.82   \n",
       "\n",
       "                      Stabilité politique        PIB_hab  \n",
       "Pays                                                      \n",
       "Luxembourg                           1.33  111017.182246  \n",
       "Chine - RAS de Macao                 1.43   81043.968656  \n",
       "Irlande                              1.00   70568.302444  \n",
       "Danemark                             0.87   57938.797728  \n",
       "Autriche                             1.05   47309.051637  \n",
       "Suède                                0.98   54621.345824  \n",
       "Suisse                               1.26   83313.013992  \n",
       "Islande                              1.35   73949.769216  \n",
       "Canada                               1.10   44906.748920  \n",
       "Finlande                             1.08   46385.550876  \n",
       "Norvège                              1.17   75220.814442  \n",
       "Australie                            0.90   57628.863849  \n",
       "Nouvelle-Zélande                     1.60   43943.484628  "
      ]
     },
     "execution_count": 17,
     "metadata": {},
     "output_type": "execute_result"
    }
   ],
   "source": [
    "# On sélectionne les pays du cluster 4\n",
    "df_cluster4 = df_k_means.loc[df_k_means[\"cluster\"] == 4]\n",
    "\n",
    "# On stocke les noms de ces pays\n",
    "liste = df_cluster4.index\n",
    "\n",
    "# On récupère les données initiales de ces pays ( données non centrées-réduites)\n",
    "df_cluster4 = df_final.loc[df_final.index.isin(liste)]\n",
    "df_cluster4.sort_values(by=\"TDI\", ascending= False) # On classe selon le taux de dépendance aux importations"
   ]
  },
  {
   "cell_type": "markdown",
   "id": "fe042f57",
   "metadata": {},
   "source": [
    "Dans ce groupe, la Norvège, l'Australie et la Nouvelle-Zélande ont des taux de dépendance aux importations très faibles (< 2 %), on décide de les exclure du groupe."
   ]
  },
  {
   "cell_type": "code",
   "execution_count": 18,
   "id": "0e8071b8",
   "metadata": {},
   "outputs": [
    {
     "name": "stdout",
     "output_type": "stream",
     "text": [
      "Voici les 10 pays retenus:\n"
     ]
    },
    {
     "data": {
      "text/html": [
       "<div>\n",
       "<style scoped>\n",
       "    .dataframe tbody tr th:only-of-type {\n",
       "        vertical-align: middle;\n",
       "    }\n",
       "\n",
       "    .dataframe tbody tr th {\n",
       "        vertical-align: top;\n",
       "    }\n",
       "\n",
       "    .dataframe thead th {\n",
       "        text-align: right;\n",
       "    }\n",
       "</style>\n",
       "<table border=\"1\" class=\"dataframe\">\n",
       "  <thead>\n",
       "    <tr style=\"text-align: right;\">\n",
       "      <th></th>\n",
       "      <th>Population</th>\n",
       "      <th>Disponibilité alimentaire</th>\n",
       "      <th>Disponibilité intérieure</th>\n",
       "      <th>TDI</th>\n",
       "      <th>Ratio_prot_anim</th>\n",
       "      <th>Stabilité politique</th>\n",
       "      <th>PIB_hab</th>\n",
       "    </tr>\n",
       "    <tr>\n",
       "      <th>Pays</th>\n",
       "      <th></th>\n",
       "      <th></th>\n",
       "      <th></th>\n",
       "      <th></th>\n",
       "      <th></th>\n",
       "      <th></th>\n",
       "      <th></th>\n",
       "    </tr>\n",
       "  </thead>\n",
       "  <tbody>\n",
       "    <tr>\n",
       "      <th>Luxembourg</th>\n",
       "      <td>591910.0</td>\n",
       "      <td>69.0</td>\n",
       "      <td>11.0</td>\n",
       "      <td>110.0</td>\n",
       "      <td>62.11</td>\n",
       "      <td>1.33</td>\n",
       "      <td>111017.182246</td>\n",
       "    </tr>\n",
       "    <tr>\n",
       "      <th>Chine - RAS de Macao</th>\n",
       "      <td>622585.0</td>\n",
       "      <td>142.0</td>\n",
       "      <td>19.0</td>\n",
       "      <td>88.5</td>\n",
       "      <td>65.25</td>\n",
       "      <td>1.43</td>\n",
       "      <td>81043.968656</td>\n",
       "    </tr>\n",
       "    <tr>\n",
       "      <th>Irlande</th>\n",
       "      <td>4753279.0</td>\n",
       "      <td>100.0</td>\n",
       "      <td>128.0</td>\n",
       "      <td>85.3</td>\n",
       "      <td>60.52</td>\n",
       "      <td>1.00</td>\n",
       "      <td>70568.302444</td>\n",
       "    </tr>\n",
       "    <tr>\n",
       "      <th>Danemark</th>\n",
       "      <td>5732274.0</td>\n",
       "      <td>112.0</td>\n",
       "      <td>167.0</td>\n",
       "      <td>79.6</td>\n",
       "      <td>66.03</td>\n",
       "      <td>0.87</td>\n",
       "      <td>57938.797728</td>\n",
       "    </tr>\n",
       "    <tr>\n",
       "      <th>Autriche</th>\n",
       "      <td>8819901.0</td>\n",
       "      <td>65.0</td>\n",
       "      <td>173.0</td>\n",
       "      <td>61.1</td>\n",
       "      <td>59.53</td>\n",
       "      <td>1.05</td>\n",
       "      <td>47309.051637</td>\n",
       "    </tr>\n",
       "    <tr>\n",
       "      <th>Suède</th>\n",
       "      <td>9904896.0</td>\n",
       "      <td>61.0</td>\n",
       "      <td>187.0</td>\n",
       "      <td>38.5</td>\n",
       "      <td>64.46</td>\n",
       "      <td>0.98</td>\n",
       "      <td>54621.345824</td>\n",
       "    </tr>\n",
       "    <tr>\n",
       "      <th>Suisse</th>\n",
       "      <td>8455804.0</td>\n",
       "      <td>55.0</td>\n",
       "      <td>133.0</td>\n",
       "      <td>37.0</td>\n",
       "      <td>62.52</td>\n",
       "      <td>1.26</td>\n",
       "      <td>83313.013992</td>\n",
       "    </tr>\n",
       "    <tr>\n",
       "      <th>Islande</th>\n",
       "      <td>334393.0</td>\n",
       "      <td>104.0</td>\n",
       "      <td>10.0</td>\n",
       "      <td>16.7</td>\n",
       "      <td>72.73</td>\n",
       "      <td>1.35</td>\n",
       "      <td>73949.769216</td>\n",
       "    </tr>\n",
       "    <tr>\n",
       "      <th>Canada</th>\n",
       "      <td>36732095.0</td>\n",
       "      <td>154.0</td>\n",
       "      <td>1433.0</td>\n",
       "      <td>12.7</td>\n",
       "      <td>52.93</td>\n",
       "      <td>1.10</td>\n",
       "      <td>44906.748920</td>\n",
       "    </tr>\n",
       "    <tr>\n",
       "      <th>Finlande</th>\n",
       "      <td>5511371.0</td>\n",
       "      <td>68.0</td>\n",
       "      <td>111.0</td>\n",
       "      <td>12.0</td>\n",
       "      <td>63.24</td>\n",
       "      <td>1.08</td>\n",
       "      <td>46385.550876</td>\n",
       "    </tr>\n",
       "  </tbody>\n",
       "</table>\n",
       "</div>"
      ],
      "text/plain": [
       "                      Population  Disponibilité alimentaire  \\\n",
       "Pays                                                          \n",
       "Luxembourg              591910.0                       69.0   \n",
       "Chine - RAS de Macao    622585.0                      142.0   \n",
       "Irlande                4753279.0                      100.0   \n",
       "Danemark               5732274.0                      112.0   \n",
       "Autriche               8819901.0                       65.0   \n",
       "Suède                  9904896.0                       61.0   \n",
       "Suisse                 8455804.0                       55.0   \n",
       "Islande                 334393.0                      104.0   \n",
       "Canada                36732095.0                      154.0   \n",
       "Finlande               5511371.0                       68.0   \n",
       "\n",
       "                      Disponibilité intérieure    TDI  Ratio_prot_anim  \\\n",
       "Pays                                                                     \n",
       "Luxembourg                                11.0  110.0            62.11   \n",
       "Chine - RAS de Macao                      19.0   88.5            65.25   \n",
       "Irlande                                  128.0   85.3            60.52   \n",
       "Danemark                                 167.0   79.6            66.03   \n",
       "Autriche                                 173.0   61.1            59.53   \n",
       "Suède                                    187.0   38.5            64.46   \n",
       "Suisse                                   133.0   37.0            62.52   \n",
       "Islande                                   10.0   16.7            72.73   \n",
       "Canada                                  1433.0   12.7            52.93   \n",
       "Finlande                                 111.0   12.0            63.24   \n",
       "\n",
       "                      Stabilité politique        PIB_hab  \n",
       "Pays                                                      \n",
       "Luxembourg                           1.33  111017.182246  \n",
       "Chine - RAS de Macao                 1.43   81043.968656  \n",
       "Irlande                              1.00   70568.302444  \n",
       "Danemark                             0.87   57938.797728  \n",
       "Autriche                             1.05   47309.051637  \n",
       "Suède                                0.98   54621.345824  \n",
       "Suisse                               1.26   83313.013992  \n",
       "Islande                              1.35   73949.769216  \n",
       "Canada                               1.10   44906.748920  \n",
       "Finlande                             1.08   46385.550876  "
      ]
     },
     "execution_count": 18,
     "metadata": {},
     "output_type": "execute_result"
    }
   ],
   "source": [
    "# On met à jour notre dataframe\n",
    "liste = [\"Norvège\", \"Australie\", \"Nouvelle-Zélande\"]\n",
    "df_cluster4 = df_cluster4.loc[~ df_cluster4.index.isin(liste)]\n",
    "df_cluster4 = df_cluster4.sort_values(by=\"TDI\", ascending= False)\n",
    "print(\"Voici les\",df_cluster4.shape[0], \"pays retenus:\")\n",
    "df_cluster4"
   ]
  },
  {
   "cell_type": "markdown",
   "id": "a08bf581",
   "metadata": {},
   "source": [
    "#### Quelques observations:  \n",
    "\n",
    "- Le Luxembourg est **le plus dépendant aux importations** (110 %) et possède le **PIB** par habitants **le plus élevé** (111017$).\n",
    "- Le Luxembourg, la Chine-RAS de Macao, l'Irlande, le Danemark et l'Autriche on des **TDI supèrieur à 50%**.\n",
    "- Le Canada est **le plus gros marché** en terme de consommateurs potentiels (36.7 millions de personnes environ).\n",
    "- Les Islandais ont la **part la plus importante de protéines d'origine animale** dans leur consommation totale de protéines (72.7%).\n",
    "- La Suisse, le Luxembourg, l'Irlande, le Danemark et l'Autriche sont **les pays les plus proches de la France**. Dans une optique de protection de l'environnement, et si l'on ne souhaite pas produir sur place, il serait intéressant de commercer avec ces pays pour limiter les émissions de CO2 lors de la livraison des marchandises.\n"
   ]
  },
  {
   "cell_type": "markdown",
   "id": "935dc131",
   "metadata": {},
   "source": [
    "### Outliers"
   ]
  },
  {
   "cell_type": "code",
   "execution_count": 19,
   "id": "6a78cdd9",
   "metadata": {
    "scrolled": true
   },
   "outputs": [
    {
     "data": {
      "text/html": [
       "<div>\n",
       "<style scoped>\n",
       "    .dataframe tbody tr th:only-of-type {\n",
       "        vertical-align: middle;\n",
       "    }\n",
       "\n",
       "    .dataframe tbody tr th {\n",
       "        vertical-align: top;\n",
       "    }\n",
       "\n",
       "    .dataframe thead th {\n",
       "        text-align: right;\n",
       "    }\n",
       "</style>\n",
       "<table border=\"1\" class=\"dataframe\">\n",
       "  <thead>\n",
       "    <tr style=\"text-align: right;\">\n",
       "      <th></th>\n",
       "      <th>Population</th>\n",
       "      <th>Disponibilité alimentaire</th>\n",
       "      <th>Disponibilité intérieure</th>\n",
       "      <th>TDI</th>\n",
       "      <th>Ratio_prot_anim</th>\n",
       "      <th>Stabilité politique</th>\n",
       "      <th>PIB_hab</th>\n",
       "    </tr>\n",
       "    <tr>\n",
       "      <th>Pays</th>\n",
       "      <th></th>\n",
       "      <th></th>\n",
       "      <th></th>\n",
       "      <th></th>\n",
       "      <th></th>\n",
       "      <th></th>\n",
       "      <th></th>\n",
       "    </tr>\n",
       "  </thead>\n",
       "  <tbody>\n",
       "    <tr>\n",
       "      <th>Brésil</th>\n",
       "      <td>2.078338e+08</td>\n",
       "      <td>204.0</td>\n",
       "      <td>9982.0</td>\n",
       "      <td>0.0</td>\n",
       "      <td>56.45</td>\n",
       "      <td>-0.47</td>\n",
       "      <td>9928.675992</td>\n",
       "    </tr>\n",
       "    <tr>\n",
       "      <th>Chine, continentale</th>\n",
       "      <td>1.421022e+09</td>\n",
       "      <td>59.0</td>\n",
       "      <td>18161.0</td>\n",
       "      <td>2.5</td>\n",
       "      <td>38.71</td>\n",
       "      <td>1.04</td>\n",
       "      <td>8663.126784</td>\n",
       "    </tr>\n",
       "    <tr>\n",
       "      <th>États-Unis d'Amérique</th>\n",
       "      <td>3.250848e+08</td>\n",
       "      <td>219.0</td>\n",
       "      <td>18266.0</td>\n",
       "      <td>0.7</td>\n",
       "      <td>64.72</td>\n",
       "      <td>0.29</td>\n",
       "      <td>59921.674703</td>\n",
       "    </tr>\n",
       "    <tr>\n",
       "      <th>Inde</th>\n",
       "      <td>1.338677e+09</td>\n",
       "      <td>7.0</td>\n",
       "      <td>3661.0</td>\n",
       "      <td>0.0</td>\n",
       "      <td>23.31</td>\n",
       "      <td>-0.76</td>\n",
       "      <td>1960.390340</td>\n",
       "    </tr>\n",
       "  </tbody>\n",
       "</table>\n",
       "</div>"
      ],
      "text/plain": [
       "                         Population  Disponibilité alimentaire  \\\n",
       "Pays                                                             \n",
       "Brésil                 2.078338e+08                      204.0   \n",
       "Chine, continentale    1.421022e+09                       59.0   \n",
       "États-Unis d'Amérique  3.250848e+08                      219.0   \n",
       "Inde                   1.338677e+09                        7.0   \n",
       "\n",
       "                       Disponibilité intérieure  TDI  Ratio_prot_anim  \\\n",
       "Pays                                                                    \n",
       "Brésil                                   9982.0  0.0            56.45   \n",
       "Chine, continentale                     18161.0  2.5            38.71   \n",
       "États-Unis d'Amérique                   18266.0  0.7            64.72   \n",
       "Inde                                     3661.0  0.0            23.31   \n",
       "\n",
       "                       Stabilité politique       PIB_hab  \n",
       "Pays                                                      \n",
       "Brésil                               -0.47   9928.675992  \n",
       "Chine, continentale                   1.04   8663.126784  \n",
       "États-Unis d'Amérique                 0.29  59921.674703  \n",
       "Inde                                 -0.76   1960.390340  "
      ]
     },
     "execution_count": 19,
     "metadata": {},
     "output_type": "execute_result"
    }
   ],
   "source": [
    "# On affiche les pays que nous avons mis de côté avant l'analyse\n",
    "df_outliers"
   ]
  },
  {
   "cell_type": "markdown",
   "id": "e0d1f973",
   "metadata": {},
   "source": [
    "Ces pays ont été mis de côté pour ne pas fausser l'ACP et le clustering en raison de leurs très fortes populations et disponibilité intérieures. Ce sont donc potentiellement de très gros marchés, mais on constate qu'ils ont de **très faibles taux de dépendance aux importations**. Dans le cas de la Chine continentale, qui est la plus dépendante, seul 2.5% des volailles quelle consommes sont importées. Ainsi, même si ces pays représentent un grand nombre de consommateurs potentiels, ils ne sont pas les plus intéressants si l'on souhaite exporter notre production."
   ]
  },
  {
   "cell_type": "markdown",
   "id": "940f769d",
   "metadata": {},
   "source": [
    "## Conclusion <a class=\"anchor\" id=\"chapter6\"></a>"
   ]
  },
  {
   "cell_type": "markdown",
   "id": "12cd1fbd",
   "metadata": {},
   "source": [
    "On a dans notre jeu de données une majorité de pays avec des tailles de marchés comparables et une partie moins importante de pays que l'on peu considérer comme des gros marchés.\n",
    "On a d'un côté des pays avec une situation politico-économique et un régime alimentaire intéressant et de l'autre des pays plus en difficultés.  \n",
    "\n",
    "On observe de forte corrélations entre les variables Population et Disponibilité intérieure et également entre PIB_hab, Stabilité poplitique, Ratio_prot_anim et Disponibilité alimentaire.  \n",
    "\n",
    "Les deux méthodes de clustering donnent des résultats assez similaires.\n",
    "Dans le cas du Kmeans, les pays des clusters 0 et 4 semblent les plus adaptés à une étude de marché plus approfondie.\n",
    "Si on décide de se concentrer sur les pays du cluster 4 il serait intéressant de privilégier les pays proches de la France pour diminuer les émissions de CO2 lors du transport des marchandises. "
   ]
  }
 ],
 "metadata": {
  "kernelspec": {
   "display_name": "Python 3 (ipykernel)",
   "language": "python",
   "name": "python3"
  },
  "language_info": {
   "codemirror_mode": {
    "name": "ipython",
    "version": 3
   },
   "file_extension": ".py",
   "mimetype": "text/x-python",
   "name": "python",
   "nbconvert_exporter": "python",
   "pygments_lexer": "ipython3",
   "version": "3.9.7"
  }
 },
 "nbformat": 4,
 "nbformat_minor": 5
}
