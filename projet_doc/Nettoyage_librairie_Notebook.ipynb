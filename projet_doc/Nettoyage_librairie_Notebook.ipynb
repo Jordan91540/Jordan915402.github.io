{
 "cells": [
  {
   "cell_type": "markdown",
   "id": "fa400e24",
   "metadata": {},
   "source": [
    "#### En tant que consultant Data Analyst chez Lapage, notre mission consiste à faire le bilan de deux années de ventes en ligne.  \n",
    "\n",
    "On souhaite identifier les points forts et les points faibles et avoir des informations sur le comportement des clients.  \n",
    "\n",
    "L'analyse se décompose en deux parties:\n",
    "-  une analyse des différents indicateurs de vente\n",
    "-  une analyse ciblée sur les clients pour comprendre leur comportement en ligne  \n",
    "\n",
    "Mais avant nous devons nettoyer le jeu de données à notre disposition, c'est le but de ce premier notebook, le deuxième étant consacré à la partie analyse."
   ]
  },
  {
   "cell_type": "markdown",
   "id": "44c25069",
   "metadata": {},
   "source": [
    "## Sommaire"
   ]
  },
  {
   "cell_type": "markdown",
   "id": "4b074b10",
   "metadata": {},
   "source": [
    "* [Étapes préliminaires](#chapter1)\n",
    "    * [Importation des librairies](#section_1_1)\n",
    "    * [Importation des données](#section_1_2)\n",
    "* [Nettoyage des données](#chapter2)\n",
    "    * [Customers](#section_2_1)\n",
    "    * [Products](#section_2_2)\n",
    "    * [Transactions](#section_2_3)\n",
    "    * [Jointure entre df_products et df_transactions](#section_2_4)\n",
    "    * [Jointure entre products_transactions avec df_customers](#section_2_5)\n",
    "    * [Évolution du nombre de transactions au cours du temps](#section_2_6)\n",
    "    * [Nombre de transactions par clients](#section_2_7)\n",
    "    * [Age des clients](#section_2_8)\n",
    "* [Exportation des données](#chapter3)"
   ]
  },
  {
   "cell_type": "markdown",
   "id": "6e876e00",
   "metadata": {},
   "source": [
    "## Étapes préliminaires <a class=\"anchor\" id=\"chapter1\"></a>"
   ]
  },
  {
   "cell_type": "markdown",
   "id": "aec06e71",
   "metadata": {},
   "source": [
    "## Importation des librairies <a class=\"anchor\" id=\"section_1_1\"></a>"
   ]
  },
  {
   "cell_type": "code",
   "execution_count": 1,
   "id": "89bd3ec9",
   "metadata": {},
   "outputs": [],
   "source": [
    "# Manipulation des données\n",
    "import pandas as pd\n",
    "import numpy as np\n",
    "\n",
    "# Représentation graphique\n",
    "import matplotlib.pyplot as plt\n",
    "import seaborn as sns\n",
    "%matplotlib inline "
   ]
  },
  {
   "cell_type": "markdown",
   "id": "12601018",
   "metadata": {},
   "source": [
    "## Importation des données <a class=\"anchor\" id=\"section_1_2\"></a>"
   ]
  },
  {
   "cell_type": "code",
   "execution_count": 2,
   "id": "43345a14",
   "metadata": {},
   "outputs": [],
   "source": [
    "customers = pd.read_csv(\"C:/Users/jorda/P6/Data/customers.csv\", sep = ',')\n",
    "products = pd.read_csv(\"C:/Users/jorda/P6/Data/products.csv\", sep = ',')\n",
    "transactions = pd.read_csv(\"C:/Users/jorda/P6/Data/transactions.csv\", sep = ',')"
   ]
  },
  {
   "cell_type": "markdown",
   "id": "7411f4bf",
   "metadata": {},
   "source": [
    "## Nettoyage des données <a class=\"anchor\" id=\"chapter2\"></a>"
   ]
  },
  {
   "cell_type": "markdown",
   "id": "42c014e6",
   "metadata": {},
   "source": [
    "### Customers <a class=\"anchor\" id=\"section_2_1\"></a>"
   ]
  },
  {
   "cell_type": "code",
   "execution_count": 3,
   "id": "54e8f3e0",
   "metadata": {
    "scrolled": true
   },
   "outputs": [
    {
     "data": {
      "text/html": [
       "<div>\n",
       "<style scoped>\n",
       "    .dataframe tbody tr th:only-of-type {\n",
       "        vertical-align: middle;\n",
       "    }\n",
       "\n",
       "    .dataframe tbody tr th {\n",
       "        vertical-align: top;\n",
       "    }\n",
       "\n",
       "    .dataframe thead th {\n",
       "        text-align: right;\n",
       "    }\n",
       "</style>\n",
       "<table border=\"1\" class=\"dataframe\">\n",
       "  <thead>\n",
       "    <tr style=\"text-align: right;\">\n",
       "      <th></th>\n",
       "      <th>client_id</th>\n",
       "      <th>sex</th>\n",
       "      <th>birth</th>\n",
       "    </tr>\n",
       "  </thead>\n",
       "  <tbody>\n",
       "    <tr>\n",
       "      <th>0</th>\n",
       "      <td>c_4410</td>\n",
       "      <td>f</td>\n",
       "      <td>1967</td>\n",
       "    </tr>\n",
       "    <tr>\n",
       "      <th>1</th>\n",
       "      <td>c_7839</td>\n",
       "      <td>f</td>\n",
       "      <td>1975</td>\n",
       "    </tr>\n",
       "    <tr>\n",
       "      <th>2</th>\n",
       "      <td>c_1699</td>\n",
       "      <td>f</td>\n",
       "      <td>1984</td>\n",
       "    </tr>\n",
       "    <tr>\n",
       "      <th>3</th>\n",
       "      <td>c_5961</td>\n",
       "      <td>f</td>\n",
       "      <td>1962</td>\n",
       "    </tr>\n",
       "    <tr>\n",
       "      <th>4</th>\n",
       "      <td>c_5320</td>\n",
       "      <td>m</td>\n",
       "      <td>1943</td>\n",
       "    </tr>\n",
       "  </tbody>\n",
       "</table>\n",
       "</div>"
      ],
      "text/plain": [
       "  client_id sex  birth\n",
       "0    c_4410   f   1967\n",
       "1    c_7839   f   1975\n",
       "2    c_1699   f   1984\n",
       "3    c_5961   f   1962\n",
       "4    c_5320   m   1943"
      ]
     },
     "execution_count": 3,
     "metadata": {},
     "output_type": "execute_result"
    }
   ],
   "source": [
    "customers.head()"
   ]
  },
  {
   "cell_type": "code",
   "execution_count": 4,
   "id": "023cff5a",
   "metadata": {
    "scrolled": true
   },
   "outputs": [
    {
     "name": "stdout",
     "output_type": "stream",
     "text": [
      "<class 'pandas.core.frame.DataFrame'>\n",
      "RangeIndex: 8623 entries, 0 to 8622\n",
      "Data columns (total 3 columns):\n",
      " #   Column     Non-Null Count  Dtype \n",
      "---  ------     --------------  ----- \n",
      " 0   client_id  8623 non-null   object\n",
      " 1   sex        8623 non-null   object\n",
      " 2   birth      8623 non-null   int64 \n",
      "dtypes: int64(1), object(2)\n",
      "memory usage: 202.2+ KB\n",
      " \n",
      "Il y a 0 lignes en doubles dans le dataframe.\n",
      " \n",
      "Nombre de valeurs uniques par colonne:\n"
     ]
    },
    {
     "data": {
      "text/plain": [
       "client_id    8623\n",
       "sex             2\n",
       "birth          76\n",
       "dtype: int64"
      ]
     },
     "execution_count": 4,
     "metadata": {},
     "output_type": "execute_result"
    }
   ],
   "source": [
    "# On affiche les informations sur le dataframe customers\n",
    "customers.info()\n",
    "print(\" \")\n",
    "\n",
    "# On regarde s'il y a des doublons au niveau des lignes\n",
    "print(\"Il y a\", customers.duplicated().sum(), \"lignes en doubles dans le dataframe.\")\n",
    "print(\" \")\n",
    "\n",
    "# On affiche le compte des valeurs uniques dans chaque colonne\n",
    "print(\"Nombre de valeurs uniques par colonne:\")\n",
    "customers.nunique()"
   ]
  },
  {
   "cell_type": "markdown",
   "id": "97b51780",
   "metadata": {},
   "source": [
    "Dans ce dataframe il n'y a pas de doublons ni de données manquantes.\n",
    "La colonne 'client_id' contient 8623 valeurs distinctes, soit le nombre de lignes du dataframe, l'unicité de la clé est respectée. On peut donc considérer 'client_id' comme la clé primaire de customers."
   ]
  },
  {
   "cell_type": "markdown",
   "id": "b1add797",
   "metadata": {},
   "source": [
    "On regarde la distribution des valeurs de la variable birth."
   ]
  },
  {
   "cell_type": "code",
   "execution_count": 5,
   "id": "b183d633",
   "metadata": {},
   "outputs": [
    {
     "data": {
      "image/png": "[encoded data removed]",
      "text/plain": [
       "<Figure size 432x288 with 1 Axes>"
      ]
     },
     "metadata": {
      "needs_background": "light"
     },
     "output_type": "display_data"
    },
    {
     "data": {
      "text/html": [
       "<div>\n",
       "<style scoped>\n",
       "    .dataframe tbody tr th:only-of-type {\n",
       "        vertical-align: middle;\n",
       "    }\n",
       "\n",
       "    .dataframe tbody tr th {\n",
       "        vertical-align: top;\n",
       "    }\n",
       "\n",
       "    .dataframe thead th {\n",
       "        text-align: right;\n",
       "    }\n",
       "</style>\n",
       "<table border=\"1\" class=\"dataframe\">\n",
       "  <thead>\n",
       "    <tr style=\"text-align: right;\">\n",
       "      <th></th>\n",
       "      <th>birth</th>\n",
       "    </tr>\n",
       "  </thead>\n",
       "  <tbody>\n",
       "    <tr>\n",
       "      <th>count</th>\n",
       "      <td>8623.000000</td>\n",
       "    </tr>\n",
       "    <tr>\n",
       "      <th>mean</th>\n",
       "      <td>1978.280877</td>\n",
       "    </tr>\n",
       "    <tr>\n",
       "      <th>std</th>\n",
       "      <td>16.919535</td>\n",
       "    </tr>\n",
       "    <tr>\n",
       "      <th>min</th>\n",
       "      <td>1929.000000</td>\n",
       "    </tr>\n",
       "    <tr>\n",
       "      <th>25%</th>\n",
       "      <td>1966.000000</td>\n",
       "    </tr>\n",
       "    <tr>\n",
       "      <th>50%</th>\n",
       "      <td>1979.000000</td>\n",
       "    </tr>\n",
       "    <tr>\n",
       "      <th>75%</th>\n",
       "      <td>1992.000000</td>\n",
       "    </tr>\n",
       "    <tr>\n",
       "      <th>max</th>\n",
       "      <td>2004.000000</td>\n",
       "    </tr>\n",
       "  </tbody>\n",
       "</table>\n",
       "</div>"
      ],
      "text/plain": [
       "             birth\n",
       "count  8623.000000\n",
       "mean   1978.280877\n",
       "std      16.919535\n",
       "min    1929.000000\n",
       "25%    1966.000000\n",
       "50%    1979.000000\n",
       "75%    1992.000000\n",
       "max    2004.000000"
      ]
     },
     "execution_count": 5,
     "metadata": {},
     "output_type": "execute_result"
    }
   ],
   "source": [
    "# Représentation en boîte à moustache des valeurs de la colonne 'birth'\n",
    "customers.boxplot(column='birth', vert = False, widths=0.5)\n",
    "plt.grid(False)\n",
    "plt.title(\"Représentation de la distribution des années de naissance\")\n",
    "plt.show()\n",
    "\n",
    "# On affiche des informations statistiques sur la colonne birth\n",
    "customers.describe()"
   ]
  },
  {
   "cell_type": "markdown",
   "id": "14c25f5f",
   "metadata": {},
   "source": [
    "D'après le diagramme, il n'y a pas de valeurs aberrantes (outliers) sur la variable birth. Les années de naissance sont comprises entre les années 1929 et 2004"
   ]
  },
  {
   "cell_type": "code",
   "execution_count": 6,
   "id": "0faeaf36",
   "metadata": {},
   "outputs": [
    {
     "name": "stdout",
     "output_type": "stream",
     "text": [
      "Le dataframe customers est composé de 8623 lignes et 3 colonnes.\n"
     ]
    }
   ],
   "source": [
    "# On affiche le nombre de lignes et de colonnes\n",
    "print(\"Le dataframe customers est composé de\", customers.shape[0], \"lignes et\", customers.shape[1], \"colonnes.\")"
   ]
  },
  {
   "cell_type": "markdown",
   "id": "af77232c",
   "metadata": {},
   "source": [
    "### Products <a class=\"anchor\" id=\"section_2_2\"></a>"
   ]
  },
  {
   "cell_type": "code",
   "execution_count": 7,
   "id": "f3efe5b1",
   "metadata": {},
   "outputs": [
    {
     "data": {
      "text/html": [
       "<div>\n",
       "<style scoped>\n",
       "    .dataframe tbody tr th:only-of-type {\n",
       "        vertical-align: middle;\n",
       "    }\n",
       "\n",
       "    .dataframe tbody tr th {\n",
       "        vertical-align: top;\n",
       "    }\n",
       "\n",
       "    .dataframe thead th {\n",
       "        text-align: right;\n",
       "    }\n",
       "</style>\n",
       "<table border=\"1\" class=\"dataframe\">\n",
       "  <thead>\n",
       "    <tr style=\"text-align: right;\">\n",
       "      <th></th>\n",
       "      <th>id_prod</th>\n",
       "      <th>price</th>\n",
       "      <th>categ</th>\n",
       "    </tr>\n",
       "  </thead>\n",
       "  <tbody>\n",
       "    <tr>\n",
       "      <th>0</th>\n",
       "      <td>0_1421</td>\n",
       "      <td>19.99</td>\n",
       "      <td>0</td>\n",
       "    </tr>\n",
       "    <tr>\n",
       "      <th>1</th>\n",
       "      <td>0_1368</td>\n",
       "      <td>5.13</td>\n",
       "      <td>0</td>\n",
       "    </tr>\n",
       "    <tr>\n",
       "      <th>2</th>\n",
       "      <td>0_731</td>\n",
       "      <td>17.99</td>\n",
       "      <td>0</td>\n",
       "    </tr>\n",
       "    <tr>\n",
       "      <th>3</th>\n",
       "      <td>1_587</td>\n",
       "      <td>4.99</td>\n",
       "      <td>1</td>\n",
       "    </tr>\n",
       "    <tr>\n",
       "      <th>4</th>\n",
       "      <td>0_1507</td>\n",
       "      <td>3.99</td>\n",
       "      <td>0</td>\n",
       "    </tr>\n",
       "  </tbody>\n",
       "</table>\n",
       "</div>"
      ],
      "text/plain": [
       "  id_prod  price  categ\n",
       "0  0_1421  19.99      0\n",
       "1  0_1368   5.13      0\n",
       "2   0_731  17.99      0\n",
       "3   1_587   4.99      1\n",
       "4  0_1507   3.99      0"
      ]
     },
     "execution_count": 7,
     "metadata": {},
     "output_type": "execute_result"
    }
   ],
   "source": [
    "products.head()"
   ]
  },
  {
   "cell_type": "code",
   "execution_count": 8,
   "id": "53776a46",
   "metadata": {
    "scrolled": false
   },
   "outputs": [
    {
     "name": "stdout",
     "output_type": "stream",
     "text": [
      "<class 'pandas.core.frame.DataFrame'>\n",
      "RangeIndex: 3287 entries, 0 to 3286\n",
      "Data columns (total 3 columns):\n",
      " #   Column   Non-Null Count  Dtype  \n",
      "---  ------   --------------  -----  \n",
      " 0   id_prod  3287 non-null   object \n",
      " 1   price    3287 non-null   float64\n",
      " 2   categ    3287 non-null   int64  \n",
      "dtypes: float64(1), int64(1), object(1)\n",
      "memory usage: 77.2+ KB\n",
      " \n",
      "Il y a 0 lignes en doubles dans le dataframe.\n",
      " \n",
      "Les catégories de produits sont: [0 1 2]\n",
      " \n",
      "Nombre de valeurs uniques par colonne:\n"
     ]
    },
    {
     "data": {
      "text/plain": [
       "id_prod    3287\n",
       "price      1455\n",
       "categ         3\n",
       "dtype: int64"
      ]
     },
     "execution_count": 8,
     "metadata": {},
     "output_type": "execute_result"
    }
   ],
   "source": [
    "# On affiche les informations sur le dataframe products\n",
    "products.info()\n",
    "print(' ')\n",
    "\n",
    "# On regarde s'il y a des doublons au niveau des lignes\n",
    "print(\"Il y a\", products.duplicated().sum(), \"lignes en doubles dans le dataframe.\")\n",
    "print(\" \")\n",
    "\n",
    "# On regarde quelles sont les valeurs uniques de la colonne 'categ'\n",
    "print(\"Les catégories de produits sont:\", products['categ'].unique())\n",
    "print(\" \")\n",
    "\n",
    "# On affiche le compte des valeurs uniques dans chaque colonne\n",
    "print(\"Nombre de valeurs uniques par colonne:\")\n",
    "products.nunique()"
   ]
  },
  {
   "cell_type": "markdown",
   "id": "1899fd92",
   "metadata": {},
   "source": [
    "Il n'y a pas de doublons ni de données manquantes dans ce dataframe.\n",
    "L'unicité des valeurs dans la colonne 'id_prod' est respectée, on la choisit comme clé primaire du dataframe products."
   ]
  },
  {
   "cell_type": "markdown",
   "id": "a761864d",
   "metadata": {},
   "source": [
    "On regarde la distribution des valeurs de la variable price."
   ]
  },
  {
   "cell_type": "code",
   "execution_count": 9,
   "id": "1d2e7015",
   "metadata": {
    "scrolled": false
   },
   "outputs": [
    {
     "data": {
      "image/png": "[encoded data removed]",
      "text/plain": [
       "<Figure size 432x288 with 1 Axes>"
      ]
     },
     "metadata": {
      "needs_background": "light"
     },
     "output_type": "display_data"
    },
    {
     "data": {
      "text/html": [
       "<div>\n",
       "<style scoped>\n",
       "    .dataframe tbody tr th:only-of-type {\n",
       "        vertical-align: middle;\n",
       "    }\n",
       "\n",
       "    .dataframe tbody tr th {\n",
       "        vertical-align: top;\n",
       "    }\n",
       "\n",
       "    .dataframe thead th {\n",
       "        text-align: right;\n",
       "    }\n",
       "</style>\n",
       "<table border=\"1\" class=\"dataframe\">\n",
       "  <thead>\n",
       "    <tr style=\"text-align: right;\">\n",
       "      <th></th>\n",
       "      <th>price</th>\n",
       "      <th>categ</th>\n",
       "    </tr>\n",
       "  </thead>\n",
       "  <tbody>\n",
       "    <tr>\n",
       "      <th>count</th>\n",
       "      <td>3287.000000</td>\n",
       "      <td>3287.000000</td>\n",
       "    </tr>\n",
       "    <tr>\n",
       "      <th>mean</th>\n",
       "      <td>21.856641</td>\n",
       "      <td>0.370246</td>\n",
       "    </tr>\n",
       "    <tr>\n",
       "      <th>std</th>\n",
       "      <td>29.847908</td>\n",
       "      <td>0.615387</td>\n",
       "    </tr>\n",
       "    <tr>\n",
       "      <th>min</th>\n",
       "      <td>-1.000000</td>\n",
       "      <td>0.000000</td>\n",
       "    </tr>\n",
       "    <tr>\n",
       "      <th>25%</th>\n",
       "      <td>6.990000</td>\n",
       "      <td>0.000000</td>\n",
       "    </tr>\n",
       "    <tr>\n",
       "      <th>50%</th>\n",
       "      <td>13.060000</td>\n",
       "      <td>0.000000</td>\n",
       "    </tr>\n",
       "    <tr>\n",
       "      <th>75%</th>\n",
       "      <td>22.990000</td>\n",
       "      <td>1.000000</td>\n",
       "    </tr>\n",
       "    <tr>\n",
       "      <th>max</th>\n",
       "      <td>300.000000</td>\n",
       "      <td>2.000000</td>\n",
       "    </tr>\n",
       "  </tbody>\n",
       "</table>\n",
       "</div>"
      ],
      "text/plain": [
       "             price        categ\n",
       "count  3287.000000  3287.000000\n",
       "mean     21.856641     0.370246\n",
       "std      29.847908     0.615387\n",
       "min      -1.000000     0.000000\n",
       "25%       6.990000     0.000000\n",
       "50%      13.060000     0.000000\n",
       "75%      22.990000     1.000000\n",
       "max     300.000000     2.000000"
      ]
     },
     "execution_count": 9,
     "metadata": {},
     "output_type": "execute_result"
    }
   ],
   "source": [
    "# Représentation en boîte à moustache des valeurs de la colonne 'price'\n",
    "products.boxplot(column= 'price', vert = False, widths=0.5)\n",
    "plt.grid(False)\n",
    "plt.title(\"distribution du prix des produits\")\n",
    "plt.show()\n",
    "\n",
    "# On affiche des informations statistiques sur la colonne price\n",
    "products.describe()"
   ]
  },
  {
   "cell_type": "markdown",
   "id": "b5b3717c",
   "metadata": {},
   "source": [
    "Le diagramme nous indique qu'il y a plusieurs outliers, les prix correspondant sont compris entre 50 € et 300 € environ. Ces valeurs ne sont pas aberrantes dans notre contexte, on peut les garder dans notre jeu de données.  \n",
    "\n",
    "Cependant, d'après les informations statistiques sur notre variable price, on a un minimum qui est négatif (-1 €).\n",
    "On décide de regarder dans notre dataframe les produits qui ont un prix négatif ou nul."
   ]
  },
  {
   "cell_type": "code",
   "execution_count": 10,
   "id": "a523ee23",
   "metadata": {
    "scrolled": true
   },
   "outputs": [
    {
     "data": {
      "text/html": [
       "<div>\n",
       "<style scoped>\n",
       "    .dataframe tbody tr th:only-of-type {\n",
       "        vertical-align: middle;\n",
       "    }\n",
       "\n",
       "    .dataframe tbody tr th {\n",
       "        vertical-align: top;\n",
       "    }\n",
       "\n",
       "    .dataframe thead th {\n",
       "        text-align: right;\n",
       "    }\n",
       "</style>\n",
       "<table border=\"1\" class=\"dataframe\">\n",
       "  <thead>\n",
       "    <tr style=\"text-align: right;\">\n",
       "      <th></th>\n",
       "      <th>id_prod</th>\n",
       "      <th>price</th>\n",
       "      <th>categ</th>\n",
       "    </tr>\n",
       "  </thead>\n",
       "  <tbody>\n",
       "    <tr>\n",
       "      <th>731</th>\n",
       "      <td>T_0</td>\n",
       "      <td>-1.0</td>\n",
       "      <td>0</td>\n",
       "    </tr>\n",
       "  </tbody>\n",
       "</table>\n",
       "</div>"
      ],
      "text/plain": [
       "    id_prod  price  categ\n",
       "731     T_0   -1.0      0"
      ]
     },
     "execution_count": 10,
     "metadata": {},
     "output_type": "execute_result"
    }
   ],
   "source": [
    "# On affiche les lignes avec des prix inférieurs ou égaux à 0\n",
    "mask = products['price'] <= 0\n",
    "products.loc[mask]"
   ]
  },
  {
   "cell_type": "markdown",
   "id": "55172f06",
   "metadata": {},
   "source": [
    "Il y a un produit identifié T_0 avec un prix négatif (-1€). Pour l'instant on conserve ce produit et on regardera à quoi il correspond par la suite."
   ]
  },
  {
   "cell_type": "markdown",
   "id": "5c117609",
   "metadata": {},
   "source": [
    "### Transactions <a class=\"anchor\" id=\"section_2_3\"></a>"
   ]
  },
  {
   "cell_type": "code",
   "execution_count": 11,
   "id": "a8d84005",
   "metadata": {},
   "outputs": [
    {
     "data": {
      "text/html": [
       "<div>\n",
       "<style scoped>\n",
       "    .dataframe tbody tr th:only-of-type {\n",
       "        vertical-align: middle;\n",
       "    }\n",
       "\n",
       "    .dataframe tbody tr th {\n",
       "        vertical-align: top;\n",
       "    }\n",
       "\n",
       "    .dataframe thead th {\n",
       "        text-align: right;\n",
       "    }\n",
       "</style>\n",
       "<table border=\"1\" class=\"dataframe\">\n",
       "  <thead>\n",
       "    <tr style=\"text-align: right;\">\n",
       "      <th></th>\n",
       "      <th>id_prod</th>\n",
       "      <th>date</th>\n",
       "      <th>session_id</th>\n",
       "      <th>client_id</th>\n",
       "    </tr>\n",
       "  </thead>\n",
       "  <tbody>\n",
       "    <tr>\n",
       "      <th>0</th>\n",
       "      <td>0_1518</td>\n",
       "      <td>2022-05-20 13:21:29.043970</td>\n",
       "      <td>s_211425</td>\n",
       "      <td>c_103</td>\n",
       "    </tr>\n",
       "    <tr>\n",
       "      <th>1</th>\n",
       "      <td>1_251</td>\n",
       "      <td>2022-02-02 07:55:19.149409</td>\n",
       "      <td>s_158752</td>\n",
       "      <td>c_8534</td>\n",
       "    </tr>\n",
       "    <tr>\n",
       "      <th>2</th>\n",
       "      <td>0_1277</td>\n",
       "      <td>2022-06-18 15:44:33.155329</td>\n",
       "      <td>s_225667</td>\n",
       "      <td>c_6714</td>\n",
       "    </tr>\n",
       "    <tr>\n",
       "      <th>3</th>\n",
       "      <td>2_209</td>\n",
       "      <td>2021-06-24 04:19:29.835891</td>\n",
       "      <td>s_52962</td>\n",
       "      <td>c_6941</td>\n",
       "    </tr>\n",
       "    <tr>\n",
       "      <th>4</th>\n",
       "      <td>0_1509</td>\n",
       "      <td>2023-01-11 08:22:08.194479</td>\n",
       "      <td>s_325227</td>\n",
       "      <td>c_4232</td>\n",
       "    </tr>\n",
       "  </tbody>\n",
       "</table>\n",
       "</div>"
      ],
      "text/plain": [
       "  id_prod                        date session_id client_id\n",
       "0  0_1518  2022-05-20 13:21:29.043970   s_211425     c_103\n",
       "1   1_251  2022-02-02 07:55:19.149409   s_158752    c_8534\n",
       "2  0_1277  2022-06-18 15:44:33.155329   s_225667    c_6714\n",
       "3   2_209  2021-06-24 04:19:29.835891    s_52962    c_6941\n",
       "4  0_1509  2023-01-11 08:22:08.194479   s_325227    c_4232"
      ]
     },
     "execution_count": 11,
     "metadata": {},
     "output_type": "execute_result"
    }
   ],
   "source": [
    "transactions.head()"
   ]
  },
  {
   "cell_type": "code",
   "execution_count": 12,
   "id": "1b247913",
   "metadata": {
    "scrolled": false
   },
   "outputs": [
    {
     "name": "stdout",
     "output_type": "stream",
     "text": [
      "<class 'pandas.core.frame.DataFrame'>\n",
      "RangeIndex: 679532 entries, 0 to 679531\n",
      "Data columns (total 4 columns):\n",
      " #   Column      Non-Null Count   Dtype \n",
      "---  ------      --------------   ----- \n",
      " 0   id_prod     679532 non-null  object\n",
      " 1   date        679532 non-null  object\n",
      " 2   session_id  679532 non-null  object\n",
      " 3   client_id   679532 non-null  object\n",
      "dtypes: object(4)\n",
      "memory usage: 20.7+ MB\n",
      " \n",
      "Il y a 126 lignes en doubles\n",
      " \n",
      "Nombre de valeurs uniques par colonne:\n"
     ]
    },
    {
     "data": {
      "text/plain": [
       "id_prod         3267\n",
       "date          679371\n",
       "session_id    342316\n",
       "client_id       8602\n",
       "dtype: int64"
      ]
     },
     "execution_count": 12,
     "metadata": {},
     "output_type": "execute_result"
    }
   ],
   "source": [
    "# On affiche les informations sur le dataframe transactions\n",
    "transactions.info()\n",
    "print(\" \")\n",
    "\n",
    "# On regarde s'il y a des doublons au niveau des lignes\n",
    "print(\"Il y a\", transactions.duplicated().sum(), \"lignes en doubles\")\n",
    "print(\" \")\n",
    "\n",
    "# On affiche le compte des valeurs uniques dans chaque colonne\n",
    "print(\"Nombre de valeurs uniques par colonne:\")\n",
    "transactions.nunique()"
   ]
  },
  {
   "cell_type": "markdown",
   "id": "77830ce6",
   "metadata": {},
   "source": [
    "Il n'y a pas de valeurs manquantes dans le dataframe.  \n",
    "On note que le type de la colonne 'date' n'est pas adéquat.  \n",
    "\n",
    "Il y a 126 doublons dans le dataframe."
   ]
  },
  {
   "cell_type": "code",
   "execution_count": 13,
   "id": "ebc36b70",
   "metadata": {
    "scrolled": false
   },
   "outputs": [
    {
     "data": {
      "text/html": [
       "<div>\n",
       "<style scoped>\n",
       "    .dataframe tbody tr th:only-of-type {\n",
       "        vertical-align: middle;\n",
       "    }\n",
       "\n",
       "    .dataframe tbody tr th {\n",
       "        vertical-align: top;\n",
       "    }\n",
       "\n",
       "    .dataframe thead th {\n",
       "        text-align: right;\n",
       "    }\n",
       "</style>\n",
       "<table border=\"1\" class=\"dataframe\">\n",
       "  <thead>\n",
       "    <tr style=\"text-align: right;\">\n",
       "      <th></th>\n",
       "      <th>id_prod</th>\n",
       "      <th>date</th>\n",
       "      <th>session_id</th>\n",
       "      <th>client_id</th>\n",
       "    </tr>\n",
       "  </thead>\n",
       "  <tbody>\n",
       "    <tr>\n",
       "      <th>606326</th>\n",
       "      <td>T_0</td>\n",
       "      <td>test_2021-03-01 02:30:02.237412</td>\n",
       "      <td>s_0</td>\n",
       "      <td>ct_1</td>\n",
       "    </tr>\n",
       "    <tr>\n",
       "      <th>96687</th>\n",
       "      <td>T_0</td>\n",
       "      <td>test_2021-03-01 02:30:02.237412</td>\n",
       "      <td>s_0</td>\n",
       "      <td>ct_1</td>\n",
       "    </tr>\n",
       "    <tr>\n",
       "      <th>453857</th>\n",
       "      <td>T_0</td>\n",
       "      <td>test_2021-03-01 02:30:02.237412</td>\n",
       "      <td>s_0</td>\n",
       "      <td>ct_1</td>\n",
       "    </tr>\n",
       "    <tr>\n",
       "      <th>548383</th>\n",
       "      <td>T_0</td>\n",
       "      <td>test_2021-03-01 02:30:02.237412</td>\n",
       "      <td>s_0</td>\n",
       "      <td>ct_1</td>\n",
       "    </tr>\n",
       "    <tr>\n",
       "      <th>255856</th>\n",
       "      <td>T_0</td>\n",
       "      <td>test_2021-03-01 02:30:02.237413</td>\n",
       "      <td>s_0</td>\n",
       "      <td>ct_1</td>\n",
       "    </tr>\n",
       "    <tr>\n",
       "      <th>...</th>\n",
       "      <td>...</td>\n",
       "      <td>...</td>\n",
       "      <td>...</td>\n",
       "      <td>...</td>\n",
       "    </tr>\n",
       "    <tr>\n",
       "      <th>379783</th>\n",
       "      <td>T_0</td>\n",
       "      <td>test_2021-03-01 02:30:02.237446</td>\n",
       "      <td>s_0</td>\n",
       "      <td>ct_0</td>\n",
       "    </tr>\n",
       "    <tr>\n",
       "      <th>633911</th>\n",
       "      <td>T_0</td>\n",
       "      <td>test_2021-03-01 02:30:02.237446</td>\n",
       "      <td>s_0</td>\n",
       "      <td>ct_0</td>\n",
       "    </tr>\n",
       "    <tr>\n",
       "      <th>320833</th>\n",
       "      <td>T_0</td>\n",
       "      <td>test_2021-03-01 02:30:02.237447</td>\n",
       "      <td>s_0</td>\n",
       "      <td>ct_1</td>\n",
       "    </tr>\n",
       "    <tr>\n",
       "      <th>621687</th>\n",
       "      <td>T_0</td>\n",
       "      <td>test_2021-03-01 02:30:02.237447</td>\n",
       "      <td>s_0</td>\n",
       "      <td>ct_1</td>\n",
       "    </tr>\n",
       "    <tr>\n",
       "      <th>573155</th>\n",
       "      <td>T_0</td>\n",
       "      <td>test_2021-03-01 02:30:02.237449</td>\n",
       "      <td>s_0</td>\n",
       "      <td>ct_0</td>\n",
       "    </tr>\n",
       "  </tbody>\n",
       "</table>\n",
       "<p>126 rows × 4 columns</p>\n",
       "</div>"
      ],
      "text/plain": [
       "       id_prod                             date session_id client_id\n",
       "606326     T_0  test_2021-03-01 02:30:02.237412        s_0      ct_1\n",
       "96687      T_0  test_2021-03-01 02:30:02.237412        s_0      ct_1\n",
       "453857     T_0  test_2021-03-01 02:30:02.237412        s_0      ct_1\n",
       "548383     T_0  test_2021-03-01 02:30:02.237412        s_0      ct_1\n",
       "255856     T_0  test_2021-03-01 02:30:02.237413        s_0      ct_1\n",
       "...        ...                              ...        ...       ...\n",
       "379783     T_0  test_2021-03-01 02:30:02.237446        s_0      ct_0\n",
       "633911     T_0  test_2021-03-01 02:30:02.237446        s_0      ct_0\n",
       "320833     T_0  test_2021-03-01 02:30:02.237447        s_0      ct_1\n",
       "621687     T_0  test_2021-03-01 02:30:02.237447        s_0      ct_1\n",
       "573155     T_0  test_2021-03-01 02:30:02.237449        s_0      ct_0\n",
       "\n",
       "[126 rows x 4 columns]"
      ]
     },
     "execution_count": 13,
     "metadata": {},
     "output_type": "execute_result"
    }
   ],
   "source": [
    "# On affiche les doublons\n",
    "transactions.loc[transactions.duplicated(keep='first'), :].sort_values(by='date')"
   ]
  },
  {
   "cell_type": "markdown",
   "id": "23d47218",
   "metadata": {},
   "source": [
    "On observe parmi ces doublons, des lignes avec la mention 'test' dans la colonne date.  \n",
    "On supprime les doublons et on regarde en détails ces lignes avec la mention 'test'."
   ]
  },
  {
   "cell_type": "code",
   "execution_count": 14,
   "id": "c07538e9",
   "metadata": {
    "scrolled": false
   },
   "outputs": [
    {
     "data": {
      "text/html": [
       "<div>\n",
       "<style scoped>\n",
       "    .dataframe tbody tr th:only-of-type {\n",
       "        vertical-align: middle;\n",
       "    }\n",
       "\n",
       "    .dataframe tbody tr th {\n",
       "        vertical-align: top;\n",
       "    }\n",
       "\n",
       "    .dataframe thead th {\n",
       "        text-align: right;\n",
       "    }\n",
       "</style>\n",
       "<table border=\"1\" class=\"dataframe\">\n",
       "  <thead>\n",
       "    <tr style=\"text-align: right;\">\n",
       "      <th></th>\n",
       "      <th>id_prod</th>\n",
       "      <th>date</th>\n",
       "      <th>session_id</th>\n",
       "      <th>client_id</th>\n",
       "    </tr>\n",
       "  </thead>\n",
       "  <tbody>\n",
       "    <tr>\n",
       "      <th>3019</th>\n",
       "      <td>T_0</td>\n",
       "      <td>test_2021-03-01 02:30:02.237419</td>\n",
       "      <td>s_0</td>\n",
       "      <td>ct_0</td>\n",
       "    </tr>\n",
       "    <tr>\n",
       "      <th>5138</th>\n",
       "      <td>T_0</td>\n",
       "      <td>test_2021-03-01 02:30:02.237425</td>\n",
       "      <td>s_0</td>\n",
       "      <td>ct_0</td>\n",
       "    </tr>\n",
       "    <tr>\n",
       "      <th>9668</th>\n",
       "      <td>T_0</td>\n",
       "      <td>test_2021-03-01 02:30:02.237437</td>\n",
       "      <td>s_0</td>\n",
       "      <td>ct_1</td>\n",
       "    </tr>\n",
       "    <tr>\n",
       "      <th>10728</th>\n",
       "      <td>T_0</td>\n",
       "      <td>test_2021-03-01 02:30:02.237436</td>\n",
       "      <td>s_0</td>\n",
       "      <td>ct_0</td>\n",
       "    </tr>\n",
       "    <tr>\n",
       "      <th>15292</th>\n",
       "      <td>T_0</td>\n",
       "      <td>test_2021-03-01 02:30:02.237430</td>\n",
       "      <td>s_0</td>\n",
       "      <td>ct_0</td>\n",
       "    </tr>\n",
       "    <tr>\n",
       "      <th>...</th>\n",
       "      <td>...</td>\n",
       "      <td>...</td>\n",
       "      <td>...</td>\n",
       "      <td>...</td>\n",
       "    </tr>\n",
       "    <tr>\n",
       "      <th>577324</th>\n",
       "      <td>T_0</td>\n",
       "      <td>test_2021-03-01 02:30:02.237424</td>\n",
       "      <td>s_0</td>\n",
       "      <td>ct_0</td>\n",
       "    </tr>\n",
       "    <tr>\n",
       "      <th>593065</th>\n",
       "      <td>T_0</td>\n",
       "      <td>test_2021-03-01 02:30:02.237422</td>\n",
       "      <td>s_0</td>\n",
       "      <td>ct_1</td>\n",
       "    </tr>\n",
       "    <tr>\n",
       "      <th>607892</th>\n",
       "      <td>T_0</td>\n",
       "      <td>test_2021-03-01 02:30:02.237412</td>\n",
       "      <td>s_0</td>\n",
       "      <td>ct_0</td>\n",
       "    </tr>\n",
       "    <tr>\n",
       "      <th>626049</th>\n",
       "      <td>T_0</td>\n",
       "      <td>test_2021-03-01 02:30:02.237422</td>\n",
       "      <td>s_0</td>\n",
       "      <td>ct_0</td>\n",
       "    </tr>\n",
       "    <tr>\n",
       "      <th>670680</th>\n",
       "      <td>T_0</td>\n",
       "      <td>test_2021-03-01 02:30:02.237449</td>\n",
       "      <td>s_0</td>\n",
       "      <td>ct_1</td>\n",
       "    </tr>\n",
       "  </tbody>\n",
       "</table>\n",
       "<p>74 rows × 4 columns</p>\n",
       "</div>"
      ],
      "text/plain": [
       "       id_prod                             date session_id client_id\n",
       "3019       T_0  test_2021-03-01 02:30:02.237419        s_0      ct_0\n",
       "5138       T_0  test_2021-03-01 02:30:02.237425        s_0      ct_0\n",
       "9668       T_0  test_2021-03-01 02:30:02.237437        s_0      ct_1\n",
       "10728      T_0  test_2021-03-01 02:30:02.237436        s_0      ct_0\n",
       "15292      T_0  test_2021-03-01 02:30:02.237430        s_0      ct_0\n",
       "...        ...                              ...        ...       ...\n",
       "577324     T_0  test_2021-03-01 02:30:02.237424        s_0      ct_0\n",
       "593065     T_0  test_2021-03-01 02:30:02.237422        s_0      ct_1\n",
       "607892     T_0  test_2021-03-01 02:30:02.237412        s_0      ct_0\n",
       "626049     T_0  test_2021-03-01 02:30:02.237422        s_0      ct_0\n",
       "670680     T_0  test_2021-03-01 02:30:02.237449        s_0      ct_1\n",
       "\n",
       "[74 rows x 4 columns]"
      ]
     },
     "execution_count": 14,
     "metadata": {},
     "output_type": "execute_result"
    }
   ],
   "source": [
    "# On supprime les doublons\n",
    "df_transactions = transactions.drop_duplicates(keep='first')\n",
    "\n",
    "# Recherche de lignes avec la mention test\n",
    "mask = df_transactions['date'].str.contains('test')\n",
    "transactions_test = df_transactions.loc[mask]\n",
    "transactions_test"
   ]
  },
  {
   "cell_type": "code",
   "execution_count": 15,
   "id": "a123277f",
   "metadata": {},
   "outputs": [
    {
     "name": "stdout",
     "output_type": "stream",
     "text": [
      "id_prod ['T_0']\n",
      "client_id ['ct_0' 'ct_1']\n",
      "session_id ['s_0']\n"
     ]
    }
   ],
   "source": [
    "# On regarde à quels produits, clients et sessions correspondent ces lignes test.\n",
    "print(\"id_prod\", transactions_test['id_prod'].unique())\n",
    "print(\"client_id\", transactions_test['client_id'].unique())\n",
    "print(\"session_id\", transactions_test['session_id'].unique())"
   ]
  },
  {
   "cell_type": "markdown",
   "id": "e73441f3",
   "metadata": {},
   "source": [
    "Nous avons 74 transactions qui sont en réalité des tests.\n",
    "Ces tests correspondent aux 'client_id' ct_0 et ct_1 et au produit T_0 qui a un prix négatif (-1 €) et sont tous réalisés durant la session s_0.  \n",
    "\n",
    "On décide de ne pas garder ces transactions tests, ni le produit et les clients qui y sont associés."
   ]
  },
  {
   "cell_type": "code",
   "execution_count": 16,
   "id": "0540ebe3",
   "metadata": {},
   "outputs": [
    {
     "name": "stdout",
     "output_type": "stream",
     "text": [
      "df_transactions est composé de 679332 lignes et 4 colonnes.\n"
     ]
    }
   ],
   "source": [
    "# On créer un dataframe df_transactions qui ne contient pas les lignes test\n",
    "mask = ~ df_transactions['date'].str.contains('test')\n",
    "df_transactions = df_transactions.loc[mask]\n",
    "print(\"df_transactions est composé de\", df_transactions.shape[0], \"lignes et\", df_transactions.shape[1], \"colonnes.\")\n",
    "\n",
    "# On ne garde pas les client ct_0 et ct_1 dans customers\n",
    "mask = (customers['client_id'] == 'ct_0') | (customers['client_id'] == 'ct_1')\n",
    "df_customers = customers.loc[~ mask]\n",
    "\n",
    "# On ne garde pas le produit test T_0 dans products\n",
    "mask = products['id_prod'] == 'T_0'\n",
    "df_products = products.loc[~ mask]"
   ]
  },
  {
   "cell_type": "markdown",
   "id": "19d8b230",
   "metadata": {},
   "source": [
    "Maintenant que nous avons supprimé les lignes avec la mention test dans la colonne 'date', nous pouvons convertir le type objet de cette colonne en type datetime."
   ]
  },
  {
   "cell_type": "code",
   "execution_count": 17,
   "id": "5062df14",
   "metadata": {
    "scrolled": true
   },
   "outputs": [
    {
     "data": {
      "text/plain": [
       "id_prod               object\n",
       "date          datetime64[ns]\n",
       "session_id            object\n",
       "client_id             object\n",
       "dtype: object"
      ]
     },
     "execution_count": 17,
     "metadata": {},
     "output_type": "execute_result"
    }
   ],
   "source": [
    "# Conversion du type de la colonne 'date'\n",
    "df_transactions['date'] = pd.to_datetime(df_transactions.date)\n",
    "\n",
    "# On affiche le type des colonnes\n",
    "df_transactions.dtypes"
   ]
  },
  {
   "cell_type": "markdown",
   "id": "15513cb5",
   "metadata": {},
   "source": [
    "## Jointure entre df_products et df_transactions <a class=\"anchor\" id=\"section_2_4\"></a>"
   ]
  },
  {
   "cell_type": "code",
   "execution_count": 18,
   "id": "85003edc",
   "metadata": {},
   "outputs": [
    {
     "name": "stdout",
     "output_type": "stream",
     "text": [
      "products_transactions est composé de 679353 lignes et 7 colonnes.\n"
     ]
    },
    {
     "data": {
      "text/html": [
       "<div>\n",
       "<style scoped>\n",
       "    .dataframe tbody tr th:only-of-type {\n",
       "        vertical-align: middle;\n",
       "    }\n",
       "\n",
       "    .dataframe tbody tr th {\n",
       "        vertical-align: top;\n",
       "    }\n",
       "\n",
       "    .dataframe thead th {\n",
       "        text-align: right;\n",
       "    }\n",
       "</style>\n",
       "<table border=\"1\" class=\"dataframe\">\n",
       "  <thead>\n",
       "    <tr style=\"text-align: right;\">\n",
       "      <th></th>\n",
       "      <th>id_prod</th>\n",
       "      <th>price</th>\n",
       "      <th>categ</th>\n",
       "      <th>date</th>\n",
       "      <th>session_id</th>\n",
       "      <th>client_id</th>\n",
       "      <th>_merge</th>\n",
       "    </tr>\n",
       "  </thead>\n",
       "  <tbody>\n",
       "    <tr>\n",
       "      <th>0</th>\n",
       "      <td>0_1421</td>\n",
       "      <td>19.99</td>\n",
       "      <td>0.0</td>\n",
       "      <td>2022-02-20 17:04:37.204937</td>\n",
       "      <td>s_168213</td>\n",
       "      <td>c_6389</td>\n",
       "      <td>both</td>\n",
       "    </tr>\n",
       "    <tr>\n",
       "      <th>1</th>\n",
       "      <td>0_1421</td>\n",
       "      <td>19.99</td>\n",
       "      <td>0.0</td>\n",
       "      <td>2022-11-19 03:42:20.707442</td>\n",
       "      <td>s_299590</td>\n",
       "      <td>c_8364</td>\n",
       "      <td>both</td>\n",
       "    </tr>\n",
       "    <tr>\n",
       "      <th>2</th>\n",
       "      <td>0_1421</td>\n",
       "      <td>19.99</td>\n",
       "      <td>0.0</td>\n",
       "      <td>2021-09-19 14:58:46.726179</td>\n",
       "      <td>s_92304</td>\n",
       "      <td>c_3544</td>\n",
       "      <td>both</td>\n",
       "    </tr>\n",
       "    <tr>\n",
       "      <th>3</th>\n",
       "      <td>0_1421</td>\n",
       "      <td>19.99</td>\n",
       "      <td>0.0</td>\n",
       "      <td>2023-01-11 16:04:24.367855</td>\n",
       "      <td>s_325369</td>\n",
       "      <td>c_1025</td>\n",
       "      <td>both</td>\n",
       "    </tr>\n",
       "    <tr>\n",
       "      <th>4</th>\n",
       "      <td>0_1421</td>\n",
       "      <td>19.99</td>\n",
       "      <td>0.0</td>\n",
       "      <td>2021-08-01 19:33:18.877168</td>\n",
       "      <td>s_70071</td>\n",
       "      <td>c_2298</td>\n",
       "      <td>both</td>\n",
       "    </tr>\n",
       "  </tbody>\n",
       "</table>\n",
       "</div>"
      ],
      "text/plain": [
       "  id_prod  price  categ                       date session_id client_id _merge\n",
       "0  0_1421  19.99    0.0 2022-02-20 17:04:37.204937   s_168213    c_6389   both\n",
       "1  0_1421  19.99    0.0 2022-11-19 03:42:20.707442   s_299590    c_8364   both\n",
       "2  0_1421  19.99    0.0 2021-09-19 14:58:46.726179    s_92304    c_3544   both\n",
       "3  0_1421  19.99    0.0 2023-01-11 16:04:24.367855   s_325369    c_1025   both\n",
       "4  0_1421  19.99    0.0 2021-08-01 19:33:18.877168    s_70071    c_2298   both"
      ]
     },
     "execution_count": 18,
     "metadata": {},
     "output_type": "execute_result"
    }
   ],
   "source": [
    "# On réalise une jointure externe entre les deux dataframes df_products et df_transactions\n",
    "products_transactions = pd.merge(df_products, df_transactions, on='id_prod', how='outer', indicator=True)\n",
    "\n",
    "# On affiche le nombre de lignes et de colonnes\n",
    "print(\"products_transactions est composé de\", products_transactions.shape[0], \"lignes et\",\n",
    "      products_transactions.shape[1], \"colonnes.\")\n",
    "products_transactions.head()"
   ]
  },
  {
   "cell_type": "code",
   "execution_count": 19,
   "id": "4e3d4c73",
   "metadata": {
    "scrolled": false
   },
   "outputs": [
    {
     "name": "stdout",
     "output_type": "stream",
     "text": [
      "(242, 7)\n"
     ]
    },
    {
     "data": {
      "text/html": [
       "<div>\n",
       "<style scoped>\n",
       "    .dataframe tbody tr th:only-of-type {\n",
       "        vertical-align: middle;\n",
       "    }\n",
       "\n",
       "    .dataframe tbody tr th {\n",
       "        vertical-align: top;\n",
       "    }\n",
       "\n",
       "    .dataframe thead th {\n",
       "        text-align: right;\n",
       "    }\n",
       "</style>\n",
       "<table border=\"1\" class=\"dataframe\">\n",
       "  <thead>\n",
       "    <tr style=\"text-align: right;\">\n",
       "      <th></th>\n",
       "      <th>id_prod</th>\n",
       "      <th>price</th>\n",
       "      <th>categ</th>\n",
       "      <th>date</th>\n",
       "      <th>session_id</th>\n",
       "      <th>client_id</th>\n",
       "      <th>_merge</th>\n",
       "    </tr>\n",
       "  </thead>\n",
       "  <tbody>\n",
       "    <tr>\n",
       "      <th>39705</th>\n",
       "      <td>0_1016</td>\n",
       "      <td>35.06</td>\n",
       "      <td>0.0</td>\n",
       "      <td>NaT</td>\n",
       "      <td>NaN</td>\n",
       "      <td>NaN</td>\n",
       "      <td>left_only</td>\n",
       "    </tr>\n",
       "    <tr>\n",
       "      <th>62805</th>\n",
       "      <td>0_1780</td>\n",
       "      <td>1.67</td>\n",
       "      <td>0.0</td>\n",
       "      <td>NaT</td>\n",
       "      <td>NaN</td>\n",
       "      <td>NaN</td>\n",
       "      <td>left_only</td>\n",
       "    </tr>\n",
       "    <tr>\n",
       "      <th>162765</th>\n",
       "      <td>0_1062</td>\n",
       "      <td>20.08</td>\n",
       "      <td>0.0</td>\n",
       "      <td>NaT</td>\n",
       "      <td>NaN</td>\n",
       "      <td>NaN</td>\n",
       "      <td>left_only</td>\n",
       "    </tr>\n",
       "    <tr>\n",
       "      <th>177522</th>\n",
       "      <td>0_1119</td>\n",
       "      <td>2.99</td>\n",
       "      <td>0.0</td>\n",
       "      <td>NaT</td>\n",
       "      <td>NaN</td>\n",
       "      <td>NaN</td>\n",
       "      <td>left_only</td>\n",
       "    </tr>\n",
       "    <tr>\n",
       "      <th>181172</th>\n",
       "      <td>0_1014</td>\n",
       "      <td>1.15</td>\n",
       "      <td>0.0</td>\n",
       "      <td>NaT</td>\n",
       "      <td>NaN</td>\n",
       "      <td>NaN</td>\n",
       "      <td>left_only</td>\n",
       "    </tr>\n",
       "    <tr>\n",
       "      <th>...</th>\n",
       "      <td>...</td>\n",
       "      <td>...</td>\n",
       "      <td>...</td>\n",
       "      <td>...</td>\n",
       "      <td>...</td>\n",
       "      <td>...</td>\n",
       "      <td>...</td>\n",
       "    </tr>\n",
       "    <tr>\n",
       "      <th>679348</th>\n",
       "      <td>0_2245</td>\n",
       "      <td>NaN</td>\n",
       "      <td>NaN</td>\n",
       "      <td>2021-08-25 09:06:03.504061</td>\n",
       "      <td>s_80395</td>\n",
       "      <td>c_131</td>\n",
       "      <td>right_only</td>\n",
       "    </tr>\n",
       "    <tr>\n",
       "      <th>679349</th>\n",
       "      <td>0_2245</td>\n",
       "      <td>NaN</td>\n",
       "      <td>NaN</td>\n",
       "      <td>2022-03-06 19:59:19.462288</td>\n",
       "      <td>s_175311</td>\n",
       "      <td>c_4167</td>\n",
       "      <td>right_only</td>\n",
       "    </tr>\n",
       "    <tr>\n",
       "      <th>679350</th>\n",
       "      <td>0_2245</td>\n",
       "      <td>NaN</td>\n",
       "      <td>NaN</td>\n",
       "      <td>2022-05-16 11:35:20.319501</td>\n",
       "      <td>s_209381</td>\n",
       "      <td>c_4453</td>\n",
       "      <td>right_only</td>\n",
       "    </tr>\n",
       "    <tr>\n",
       "      <th>679351</th>\n",
       "      <td>0_2245</td>\n",
       "      <td>NaN</td>\n",
       "      <td>NaN</td>\n",
       "      <td>2022-02-11 09:05:43.952857</td>\n",
       "      <td>s_163405</td>\n",
       "      <td>c_1098</td>\n",
       "      <td>right_only</td>\n",
       "    </tr>\n",
       "    <tr>\n",
       "      <th>679352</th>\n",
       "      <td>0_2245</td>\n",
       "      <td>NaN</td>\n",
       "      <td>NaN</td>\n",
       "      <td>2021-12-14 22:34:54.589921</td>\n",
       "      <td>s_134446</td>\n",
       "      <td>c_4854</td>\n",
       "      <td>right_only</td>\n",
       "    </tr>\n",
       "  </tbody>\n",
       "</table>\n",
       "<p>242 rows × 7 columns</p>\n",
       "</div>"
      ],
      "text/plain": [
       "       id_prod  price  categ                       date session_id client_id  \\\n",
       "39705   0_1016  35.06    0.0                        NaT        NaN       NaN   \n",
       "62805   0_1780   1.67    0.0                        NaT        NaN       NaN   \n",
       "162765  0_1062  20.08    0.0                        NaT        NaN       NaN   \n",
       "177522  0_1119   2.99    0.0                        NaT        NaN       NaN   \n",
       "181172  0_1014   1.15    0.0                        NaT        NaN       NaN   \n",
       "...        ...    ...    ...                        ...        ...       ...   \n",
       "679348  0_2245    NaN    NaN 2021-08-25 09:06:03.504061    s_80395     c_131   \n",
       "679349  0_2245    NaN    NaN 2022-03-06 19:59:19.462288   s_175311    c_4167   \n",
       "679350  0_2245    NaN    NaN 2022-05-16 11:35:20.319501   s_209381    c_4453   \n",
       "679351  0_2245    NaN    NaN 2022-02-11 09:05:43.952857   s_163405    c_1098   \n",
       "679352  0_2245    NaN    NaN 2021-12-14 22:34:54.589921   s_134446    c_4854   \n",
       "\n",
       "            _merge  \n",
       "39705    left_only  \n",
       "62805    left_only  \n",
       "162765   left_only  \n",
       "177522   left_only  \n",
       "181172   left_only  \n",
       "...            ...  \n",
       "679348  right_only  \n",
       "679349  right_only  \n",
       "679350  right_only  \n",
       "679351  right_only  \n",
       "679352  right_only  \n",
       "\n",
       "[242 rows x 7 columns]"
      ]
     },
     "execution_count": 19,
     "metadata": {},
     "output_type": "execute_result"
    }
   ],
   "source": [
    "# On regarde si des lignes n'ont pas trouvé de correspondance lors de la jointure\n",
    "mask = products_transactions['_merge'] != 'both'\n",
    "df_no_both = products_transactions.loc[mask]\n",
    "print(df_no_both.shape)\n",
    "df_no_both"
   ]
  },
  {
   "cell_type": "code",
   "execution_count": 20,
   "id": "d5a2f1be",
   "metadata": {},
   "outputs": [
    {
     "data": {
      "text/plain": [
       "(21, 7)"
      ]
     },
     "execution_count": 20,
     "metadata": {},
     "output_type": "execute_result"
    }
   ],
   "source": [
    "# On selectionne les lignes qui ont la valeur left_only dans la colonne _merge\n",
    "mask = products_transactions['_merge'] == 'left_only'\n",
    "products_transactions.loc[mask].shape"
   ]
  },
  {
   "cell_type": "markdown",
   "id": "9e12f5d6",
   "metadata": {},
   "source": [
    "Il y a 21 lignes avec la valeur left_only dans la colonne '_merge', cela signifie que les 21 produits correspondant n'ont pas été vendus, ils n'ont pas trouvé de correspondance dans df_transactions. On décide de ne pas garder ces lignes dans le dataframe products_transactions."
   ]
  },
  {
   "cell_type": "code",
   "execution_count": 21,
   "id": "00d68951",
   "metadata": {},
   "outputs": [
    {
     "name": "stdout",
     "output_type": "stream",
     "text": [
      "products_transactions est composé de 679332 lignes et 7 colonnes.\n"
     ]
    }
   ],
   "source": [
    "# On met de côté les produits qui n'ont pas été vendu \n",
    "mask = products_transactions['_merge'] == 'left_only'\n",
    "df_products_nosale = products_transactions.loc[mask]\n",
    "liste = df_products_nosale['id_prod']\n",
    "df_products_nosale = products.loc[products['id_prod'].isin(liste)]\n",
    "\n",
    "# On met à jour notre dataframe sans ces produits non vendus\n",
    "mask = products_transactions['_merge'] != 'left_only'\n",
    "products_transactions = products_transactions.loc[mask]\n",
    "\n",
    "# On affiche le nombre de lignes et de colonnes\n",
    "print(\"products_transactions est composé de\", products_transactions.shape[0], \n",
    "      \"lignes et\", products_transactions.shape[1], \"colonnes.\")"
   ]
  },
  {
   "cell_type": "markdown",
   "id": "a6f6efd4",
   "metadata": {},
   "source": [
    "Nous avons ensuite des lignes avec la valeur 'right_only' dans la colonne _merge, cela signifie que des lignes de df_transactions n'ont pas trouvé de correspondance dans df_products. Ainsi, nous avons des transactions pour lesquelles les informations sur le produit associé sont manquantes."
   ]
  },
  {
   "cell_type": "code",
   "execution_count": 22,
   "id": "8ae2ccab",
   "metadata": {},
   "outputs": [
    {
     "name": "stdout",
     "output_type": "stream",
     "text": [
      "Nombre de transactions avec un manque d'informations sur le produit acheté: 221\n",
      "Produits concernés: ['0_2245']\n"
     ]
    }
   ],
   "source": [
    "# On sélectionne les lignes qui ont la valeur right_only dans la colonne _merge\n",
    "mask = df_no_both['_merge'] == 'right_only'\n",
    "df_right_only = df_no_both.loc[mask]\n",
    "print(\"Nombre de transactions avec un manque d'informations sur le produit acheté:\", df_right_only.shape[0])\n",
    "\n",
    "# On affiche les id_prod du ou des produits pour lesquels nous n'avons pas d'informations\n",
    "print(\"Produits concernés:\", df_right_only['id_prod'].unique())"
   ]
  },
  {
   "cell_type": "markdown",
   "id": "b38795bb",
   "metadata": {},
   "source": [
    "On a 221 transactions qui correspondent à un unique produit (0_2245) dont on ne connaît ni le prix ni la catégorie.  \n",
    "\n",
    "On tente de déduire la catégorie de ce produit à partir des informations dont on dispose. Pour cela, on cherche à savoir si le premier chiffre d'un id_prod correspond à la catégorie du produit en question."
   ]
  },
  {
   "cell_type": "code",
   "execution_count": 23,
   "id": "6937a4da",
   "metadata": {},
   "outputs": [
    {
     "data": {
      "text/html": [
       "<div>\n",
       "<style scoped>\n",
       "    .dataframe tbody tr th:only-of-type {\n",
       "        vertical-align: middle;\n",
       "    }\n",
       "\n",
       "    .dataframe tbody tr th {\n",
       "        vertical-align: top;\n",
       "    }\n",
       "\n",
       "    .dataframe thead th {\n",
       "        text-align: right;\n",
       "    }\n",
       "</style>\n",
       "<table border=\"1\" class=\"dataframe\">\n",
       "  <thead>\n",
       "    <tr style=\"text-align: right;\">\n",
       "      <th></th>\n",
       "      <th>id_prod</th>\n",
       "      <th>price</th>\n",
       "      <th>categ</th>\n",
       "    </tr>\n",
       "  </thead>\n",
       "  <tbody>\n",
       "    <tr>\n",
       "      <th>0</th>\n",
       "      <td>0_1421</td>\n",
       "      <td>19.99</td>\n",
       "      <td>0</td>\n",
       "    </tr>\n",
       "    <tr>\n",
       "      <th>1</th>\n",
       "      <td>0_1368</td>\n",
       "      <td>5.13</td>\n",
       "      <td>0</td>\n",
       "    </tr>\n",
       "    <tr>\n",
       "      <th>2</th>\n",
       "      <td>0_731</td>\n",
       "      <td>17.99</td>\n",
       "      <td>0</td>\n",
       "    </tr>\n",
       "    <tr>\n",
       "      <th>3</th>\n",
       "      <td>1_587</td>\n",
       "      <td>4.99</td>\n",
       "      <td>1</td>\n",
       "    </tr>\n",
       "    <tr>\n",
       "      <th>4</th>\n",
       "      <td>0_1507</td>\n",
       "      <td>3.99</td>\n",
       "      <td>0</td>\n",
       "    </tr>\n",
       "  </tbody>\n",
       "</table>\n",
       "</div>"
      ],
      "text/plain": [
       "  id_prod  price  categ\n",
       "0  0_1421  19.99      0\n",
       "1  0_1368   5.13      0\n",
       "2   0_731  17.99      0\n",
       "3   1_587   4.99      1\n",
       "4  0_1507   3.99      0"
      ]
     },
     "execution_count": 23,
     "metadata": {},
     "output_type": "execute_result"
    }
   ],
   "source": [
    "df_products.head()"
   ]
  },
  {
   "cell_type": "code",
   "execution_count": 24,
   "id": "7efbd2ac",
   "metadata": {
    "scrolled": true
   },
   "outputs": [
    {
     "name": "stdout",
     "output_type": "stream",
     "text": [
      "Les id_prod peuvent avoir comme premier caractère: ['0' '1' '2']\n"
     ]
    }
   ],
   "source": [
    "# On vérifie quels sont les premièrs caractères possibles des id_prod\n",
    "print(\"Les id_prod peuvent avoir comme premier caractère:\", df_products['id_prod'].astype(str).str[0].unique())"
   ]
  },
  {
   "cell_type": "code",
   "execution_count": 25,
   "id": "3581a9db",
   "metadata": {},
   "outputs": [
    {
     "name": "stdout",
     "output_type": "stream",
     "text": [
      "Nombre de id_prod commencant par 0 mais n'appartenant pas à la categ 0: 0\n",
      "Nombre de id_prod commencant par 1 mais n'appartenant pas à la categ 1: 0\n",
      "Nombre de id_prod commencant par 2 mais n'appartenant pas à la categ 2: 0\n"
     ]
    }
   ],
   "source": [
    "# On regarde si des id_prod commencant par 0 on une categ différente de 0\n",
    "mask0 = (df_products['id_prod'].astype(str).str[0] == '0') & (df_products['categ'] != 0)\n",
    "print(\"Nombre de id_prod commencant par 0 mais n'appartenant pas à la categ 0:\", df_products.loc[mask0].shape[0])\n",
    "\n",
    "# On regarde si des id_prod commencant par 1 on une categ différente de 1\n",
    "mask1 = (df_products['id_prod'].astype(str).str[0] == '1') & (df_products['categ'] != 1)\n",
    "print(\"Nombre de id_prod commencant par 1 mais n'appartenant pas à la categ 1:\", df_products.loc[mask1].shape[0])\n",
    "\n",
    "# On regarde si des id_prod commencant par 2 on une categ différente de 2\n",
    "mask2 = (df_products['id_prod'].astype(str).str[0] == '2') & (df_products['categ'] != 2)\n",
    "print(\"Nombre de id_prod commencant par 2 mais n'appartenant pas à la categ 2:\", df_products.loc[mask2].shape[0])"
   ]
  },
  {
   "cell_type": "markdown",
   "id": "f5ccc9f1",
   "metadata": {},
   "source": [
    "On peut maintenant confirmer que le premier caractère de l'id_prod d'un produit correspond à sa catégorie, nous pouvons en déduire que notre produit identifié 0_2245 est de catégorie 0.  \n",
    "À partir de cela nous pouvons attribuer un prix à notre produit, ce prix sera la moyenne des prix des produits de sa catégorie.  \n",
    "\n",
    "Mais avant, nous devons regarder la distribution des prix dans une catégorie et le prix moyen entre catégories."
   ]
  },
  {
   "cell_type": "code",
   "execution_count": 26,
   "id": "1e1fda75",
   "metadata": {},
   "outputs": [
    {
     "data": {
      "image/png": "[encoded data removed]",
      "text/plain": [
       "<Figure size 864x432 with 1 Axes>"
      ]
     },
     "metadata": {
      "needs_background": "light"
     },
     "output_type": "display_data"
    },
    {
     "name": "stdout",
     "output_type": "stream",
     "text": [
      "Prix moyen par catégorie:\n",
      "   \n",
      " Catégorie 0 : 11.73 € \n",
      " Catégorie 1 : 25.53 € \n",
      " Catégorie 2 : 108.35 €\n"
     ]
    }
   ],
   "source": [
    "# Représentation en boîte à moustache des distributions des valeurs de la colonne 'price' pour chaque catégorie\n",
    "plt.figure(figsize=(12, 6))\n",
    "\n",
    "sns.boxplot(x='categ', y='price', data=df_products, orient='v')\n",
    "plt.title(\"Distribution des prix en fonction de la catégorie\", fontsize=15)\n",
    "plt.xlabel(\"Catégorie\", fontsize=12)\n",
    "plt.ylabel(\"Prix\", fontsize=12)\n",
    "plt.show()\n",
    "\n",
    "# On calcule le prix moyen pour chaque catégorie\n",
    "prix_moyen_categ = df_products.groupby(['categ']).price.mean()\n",
    "print(\"Prix moyen par catégorie:\")\n",
    "print(\"   \")\n",
    "print(\" Catégorie 0 :\", round(prix_moyen_categ[0], 2), \"€\", \"\\n\",\n",
    "      \"Catégorie 1 :\", round(prix_moyen_categ[1], 2), \"€\", \"\\n\",\n",
    "      \"Catégorie 2 :\", round(prix_moyen_categ[2], 2), \"€\")"
   ]
  },
  {
   "cell_type": "markdown",
   "id": "cd22e68e",
   "metadata": {},
   "source": [
    "On voit sur ce diagramme, que la catégorie 0 (en bleu) a la distribution de prix la plus homogène avec 50% des prix entre 0€ et 25€ environ. On voit également que les valeurs les plus extrèmes ne dépassent pas les 50€. Et enfin, on observe bien une différence de prix moyen pour chaque catégorie.  \n",
    "On en déduit qu'une imputation par la moyenne est appropriée pour un produit de la catégorie 0.\n",
    "\n",
    "Nous pouvons maintenant compléter les informations concernant notre produit."
   ]
  },
  {
   "cell_type": "code",
   "execution_count": 27,
   "id": "f66518c4",
   "metadata": {},
   "outputs": [
    {
     "name": "stdout",
     "output_type": "stream",
     "text": [
      "Le prix attribué au produit identifié 0_2245 et de catégorie 0 est de 11.73 €\n"
     ]
    }
   ],
   "source": [
    "# On sélectionne les produits de catégorie 0 dans le dataframe df_products\n",
    "mask = df_products['categ'] == 0\n",
    "products_categ0 = df_products.loc[mask]\n",
    "\n",
    "# On calcul la moyenne de la colonne price\n",
    "moy_prix = products_categ0['price'].mean()\n",
    "\n",
    "# On ajoute les données dans le dataframe products_transactions\n",
    "products_transactions['price'] = products_transactions['price'].fillna(moy_prix) \n",
    "products_transactions['categ'] = products_transactions['categ'].fillna(0)\n",
    "\n",
    "# On supprime la colonne '_merge'\n",
    "products_transactions.drop(columns= \"_merge\", inplace=True)\n",
    "\n",
    "print(\"Le prix attribué au produit identifié 0_2245 et de catégorie 0 est de\", round(moy_prix, 2), \"€\")"
   ]
  },
  {
   "cell_type": "markdown",
   "id": "f76c8615",
   "metadata": {},
   "source": [
    "## Jointure entre products_transactions avec df_customers <a class=\"anchor\" id=\"section_2_5\"></a>"
   ]
  },
  {
   "cell_type": "code",
   "execution_count": 28,
   "id": "b7f413b6",
   "metadata": {},
   "outputs": [
    {
     "data": {
      "text/html": [
       "<div>\n",
       "<style scoped>\n",
       "    .dataframe tbody tr th:only-of-type {\n",
       "        vertical-align: middle;\n",
       "    }\n",
       "\n",
       "    .dataframe tbody tr th {\n",
       "        vertical-align: top;\n",
       "    }\n",
       "\n",
       "    .dataframe thead th {\n",
       "        text-align: right;\n",
       "    }\n",
       "</style>\n",
       "<table border=\"1\" class=\"dataframe\">\n",
       "  <thead>\n",
       "    <tr style=\"text-align: right;\">\n",
       "      <th></th>\n",
       "      <th>id_prod</th>\n",
       "      <th>price</th>\n",
       "      <th>categ</th>\n",
       "      <th>date</th>\n",
       "      <th>session_id</th>\n",
       "      <th>client_id</th>\n",
       "      <th>sex</th>\n",
       "      <th>birth</th>\n",
       "      <th>_merge</th>\n",
       "    </tr>\n",
       "  </thead>\n",
       "  <tbody>\n",
       "    <tr>\n",
       "      <th>0</th>\n",
       "      <td>0_1421</td>\n",
       "      <td>19.99</td>\n",
       "      <td>0.0</td>\n",
       "      <td>2022-02-20 17:04:37.204937</td>\n",
       "      <td>s_168213</td>\n",
       "      <td>c_6389</td>\n",
       "      <td>f</td>\n",
       "      <td>1991</td>\n",
       "      <td>both</td>\n",
       "    </tr>\n",
       "    <tr>\n",
       "      <th>1</th>\n",
       "      <td>0_1421</td>\n",
       "      <td>19.99</td>\n",
       "      <td>0.0</td>\n",
       "      <td>2022-10-20 17:04:37.204937</td>\n",
       "      <td>s_285450</td>\n",
       "      <td>c_6389</td>\n",
       "      <td>f</td>\n",
       "      <td>1991</td>\n",
       "      <td>both</td>\n",
       "    </tr>\n",
       "    <tr>\n",
       "      <th>2</th>\n",
       "      <td>0_2131</td>\n",
       "      <td>8.99</td>\n",
       "      <td>0.0</td>\n",
       "      <td>2021-10-09 21:47:06.777914</td>\n",
       "      <td>s_102458</td>\n",
       "      <td>c_6389</td>\n",
       "      <td>f</td>\n",
       "      <td>1991</td>\n",
       "      <td>both</td>\n",
       "    </tr>\n",
       "    <tr>\n",
       "      <th>3</th>\n",
       "      <td>0_1635</td>\n",
       "      <td>16.99</td>\n",
       "      <td>0.0</td>\n",
       "      <td>2021-04-28 06:08:38.261863</td>\n",
       "      <td>s_26841</td>\n",
       "      <td>c_6389</td>\n",
       "      <td>f</td>\n",
       "      <td>1991</td>\n",
       "      <td>both</td>\n",
       "    </tr>\n",
       "    <tr>\n",
       "      <th>4</th>\n",
       "      <td>0_166</td>\n",
       "      <td>1.83</td>\n",
       "      <td>0.0</td>\n",
       "      <td>2021-07-15 10:35:31.526968</td>\n",
       "      <td>s_62585</td>\n",
       "      <td>c_6389</td>\n",
       "      <td>f</td>\n",
       "      <td>1991</td>\n",
       "      <td>both</td>\n",
       "    </tr>\n",
       "  </tbody>\n",
       "</table>\n",
       "</div>"
      ],
      "text/plain": [
       "  id_prod  price  categ                       date session_id client_id sex  \\\n",
       "0  0_1421  19.99    0.0 2022-02-20 17:04:37.204937   s_168213    c_6389   f   \n",
       "1  0_1421  19.99    0.0 2022-10-20 17:04:37.204937   s_285450    c_6389   f   \n",
       "2  0_2131   8.99    0.0 2021-10-09 21:47:06.777914   s_102458    c_6389   f   \n",
       "3  0_1635  16.99    0.0 2021-04-28 06:08:38.261863    s_26841    c_6389   f   \n",
       "4   0_166   1.83    0.0 2021-07-15 10:35:31.526968    s_62585    c_6389   f   \n",
       "\n",
       "   birth _merge  \n",
       "0   1991   both  \n",
       "1   1991   both  \n",
       "2   1991   both  \n",
       "3   1991   both  \n",
       "4   1991   both  "
      ]
     },
     "execution_count": 28,
     "metadata": {},
     "output_type": "execute_result"
    }
   ],
   "source": [
    "# On réalise une jointure externe entre les deux dataframes products_transactions et df_customers\n",
    "df_final = pd.merge(products_transactions, df_customers, on='client_id', how='outer', indicator=True)\n",
    "df_final.head()"
   ]
  },
  {
   "cell_type": "code",
   "execution_count": 29,
   "id": "d5f7b585",
   "metadata": {
    "scrolled": true
   },
   "outputs": [
    {
     "name": "stdout",
     "output_type": "stream",
     "text": [
      "(21, 9)\n"
     ]
    },
    {
     "data": {
      "text/html": [
       "<div>\n",
       "<style scoped>\n",
       "    .dataframe tbody tr th:only-of-type {\n",
       "        vertical-align: middle;\n",
       "    }\n",
       "\n",
       "    .dataframe tbody tr th {\n",
       "        vertical-align: top;\n",
       "    }\n",
       "\n",
       "    .dataframe thead th {\n",
       "        text-align: right;\n",
       "    }\n",
       "</style>\n",
       "<table border=\"1\" class=\"dataframe\">\n",
       "  <thead>\n",
       "    <tr style=\"text-align: right;\">\n",
       "      <th></th>\n",
       "      <th>id_prod</th>\n",
       "      <th>price</th>\n",
       "      <th>categ</th>\n",
       "      <th>date</th>\n",
       "      <th>session_id</th>\n",
       "      <th>client_id</th>\n",
       "      <th>sex</th>\n",
       "      <th>birth</th>\n",
       "      <th>_merge</th>\n",
       "    </tr>\n",
       "  </thead>\n",
       "  <tbody>\n",
       "    <tr>\n",
       "      <th>679332</th>\n",
       "      <td>NaN</td>\n",
       "      <td>NaN</td>\n",
       "      <td>NaN</td>\n",
       "      <td>NaT</td>\n",
       "      <td>NaN</td>\n",
       "      <td>c_8253</td>\n",
       "      <td>f</td>\n",
       "      <td>2001</td>\n",
       "      <td>right_only</td>\n",
       "    </tr>\n",
       "    <tr>\n",
       "      <th>679333</th>\n",
       "      <td>NaN</td>\n",
       "      <td>NaN</td>\n",
       "      <td>NaN</td>\n",
       "      <td>NaT</td>\n",
       "      <td>NaN</td>\n",
       "      <td>c_3789</td>\n",
       "      <td>f</td>\n",
       "      <td>1997</td>\n",
       "      <td>right_only</td>\n",
       "    </tr>\n",
       "    <tr>\n",
       "      <th>679334</th>\n",
       "      <td>NaN</td>\n",
       "      <td>NaN</td>\n",
       "      <td>NaN</td>\n",
       "      <td>NaT</td>\n",
       "      <td>NaN</td>\n",
       "      <td>c_4406</td>\n",
       "      <td>f</td>\n",
       "      <td>1998</td>\n",
       "      <td>right_only</td>\n",
       "    </tr>\n",
       "    <tr>\n",
       "      <th>679335</th>\n",
       "      <td>NaN</td>\n",
       "      <td>NaN</td>\n",
       "      <td>NaN</td>\n",
       "      <td>NaT</td>\n",
       "      <td>NaN</td>\n",
       "      <td>c_2706</td>\n",
       "      <td>f</td>\n",
       "      <td>1967</td>\n",
       "      <td>right_only</td>\n",
       "    </tr>\n",
       "    <tr>\n",
       "      <th>679336</th>\n",
       "      <td>NaN</td>\n",
       "      <td>NaN</td>\n",
       "      <td>NaN</td>\n",
       "      <td>NaT</td>\n",
       "      <td>NaN</td>\n",
       "      <td>c_3443</td>\n",
       "      <td>m</td>\n",
       "      <td>1959</td>\n",
       "      <td>right_only</td>\n",
       "    </tr>\n",
       "  </tbody>\n",
       "</table>\n",
       "</div>"
      ],
      "text/plain": [
       "       id_prod  price  categ date session_id client_id sex  birth      _merge\n",
       "679332     NaN    NaN    NaN  NaT        NaN    c_8253   f   2001  right_only\n",
       "679333     NaN    NaN    NaN  NaT        NaN    c_3789   f   1997  right_only\n",
       "679334     NaN    NaN    NaN  NaT        NaN    c_4406   f   1998  right_only\n",
       "679335     NaN    NaN    NaN  NaT        NaN    c_2706   f   1967  right_only\n",
       "679336     NaN    NaN    NaN  NaT        NaN    c_3443   m   1959  right_only"
      ]
     },
     "execution_count": 29,
     "metadata": {},
     "output_type": "execute_result"
    }
   ],
   "source": [
    "# On regarde si des lignes n'ont pas trouvé de correspondance lors de la jointure\n",
    "mask = df_final['_merge'] != 'both'\n",
    "df_no_both2 = df_final.loc[mask]\n",
    "print(df_no_both2.shape)\n",
    "df_no_both2.head()"
   ]
  },
  {
   "cell_type": "markdown",
   "id": "9e077e9c",
   "metadata": {},
   "source": [
    "Il y a 21 lignes qui n'ont pas trouvé de correspondance."
   ]
  },
  {
   "cell_type": "code",
   "execution_count": 30,
   "id": "73f00fec",
   "metadata": {
    "scrolled": true
   },
   "outputs": [
    {
     "data": {
      "text/html": [
       "<div>\n",
       "<style scoped>\n",
       "    .dataframe tbody tr th:only-of-type {\n",
       "        vertical-align: middle;\n",
       "    }\n",
       "\n",
       "    .dataframe tbody tr th {\n",
       "        vertical-align: top;\n",
       "    }\n",
       "\n",
       "    .dataframe thead th {\n",
       "        text-align: right;\n",
       "    }\n",
       "</style>\n",
       "<table border=\"1\" class=\"dataframe\">\n",
       "  <thead>\n",
       "    <tr style=\"text-align: right;\">\n",
       "      <th></th>\n",
       "      <th>id_prod</th>\n",
       "      <th>price</th>\n",
       "      <th>categ</th>\n",
       "      <th>date</th>\n",
       "      <th>session_id</th>\n",
       "      <th>client_id</th>\n",
       "      <th>sex</th>\n",
       "      <th>birth</th>\n",
       "      <th>_merge</th>\n",
       "    </tr>\n",
       "  </thead>\n",
       "  <tbody>\n",
       "  </tbody>\n",
       "</table>\n",
       "</div>"
      ],
      "text/plain": [
       "Empty DataFrame\n",
       "Columns: [id_prod, price, categ, date, session_id, client_id, sex, birth, _merge]\n",
       "Index: []"
      ]
     },
     "execution_count": 30,
     "metadata": {},
     "output_type": "execute_result"
    }
   ],
   "source": [
    "# On regarde si des lignes ont la valeur left_only dans '_merge'\n",
    "mask = df_final['_merge'] == 'left_only'\n",
    "df_final.loc[mask]"
   ]
  },
  {
   "cell_type": "markdown",
   "id": "7be9cd34",
   "metadata": {},
   "source": [
    "Les 21 lignes on toutes la valeur right_only, ce qui signifie que ce sont des lignes de df_customers qui n'ont pas trouvé de correspondance dans products_transactions.  \n",
    "Il y a donc 21 clients qui n'ont pas acheté de produits. On décide de ne pas garder ces 21 lignes dans df_final."
   ]
  },
  {
   "cell_type": "code",
   "execution_count": 31,
   "id": "4d7b618f",
   "metadata": {},
   "outputs": [
    {
     "name": "stdout",
     "output_type": "stream",
     "text": [
      "df_final est composé de 679332 lignes et 8 colonnes.\n"
     ]
    }
   ],
   "source": [
    "# On met de côté les clients qui n'ont pas acheté de produits\n",
    "mask = df_final['_merge'] == 'right_only'\n",
    "df_no_buy = df_final.loc[mask]\n",
    "\n",
    "# On met à jour notre df_final sans les clients qui n'ont pas achetés.\n",
    "mask = df_final['_merge'] == 'both'\n",
    "df_final = df_final.loc[mask]\n",
    "\n",
    "# On supprime la colonne '_merge'\n",
    "df_final.drop(columns= \"_merge\", inplace=True)\n",
    "\n",
    "# On affiche le nombre de lignes et de colonnes\n",
    "print(\"df_final est composé de\", df_final.shape[0], \"lignes et\", df_final.shape[1], \"colonnes.\")"
   ]
  },
  {
   "cell_type": "markdown",
   "id": "b492e972",
   "metadata": {},
   "source": [
    "#### Évolution du nombre de transactions au cours du temps  <a class=\"anchor\" id=\"section_2_6\"></a>"
   ]
  },
  {
   "cell_type": "code",
   "execution_count": 32,
   "id": "6277ce04",
   "metadata": {
    "scrolled": false
   },
   "outputs": [
    {
     "data": {
      "image/png": "[encoded data removed]",
      "text/plain": [
       "<Figure size 648x360 with 1 Axes>"
      ]
     },
     "metadata": {
      "needs_background": "light"
     },
     "output_type": "display_data"
    }
   ],
   "source": [
    "# Représentation graphique du nombre de transactions par mois et pour chaque catégorie\n",
    "plt.figure(figsize=(9, 5))\n",
    "\n",
    "df_final.groupby(df_final['date'].dt.to_period('M'))['date'].count().plot(label='Toutes catégories')\n",
    "df_final[df_final['categ']==0].groupby(df_final['date'].dt.to_period('M'))['date'].count().plot(label='categ 0')\n",
    "df_final[df_final['categ']==1].groupby(df_final['date'].dt.to_period('M'))['date'].count().plot(label='categ 1')\n",
    "df_final[df_final['categ']==2].groupby(df_final['date'].dt.to_period('M'))['date'].count().plot(label='categ 2')\n",
    "\n",
    "plt.xlabel(\"Temps (mois)\")\n",
    "plt.ylabel(\"Nombre de transactions\")\n",
    "plt.legend(loc=1)\n",
    "plt.title(\"Nombre de transactions par mois\")\n",
    "plt.show()"
   ]
  },
  {
   "cell_type": "markdown",
   "id": "1938bd8d",
   "metadata": {},
   "source": [
    "On observe une diminution brutale du nombre de transactions (toutes catégories) au mois d'octobre 2021. Si on regarde par catégorie de produits, on voit pour la catégorie 1 une diminution anormale au mois d'octobre 2021 par rapport à la tendance générale de la courbe.  \n",
    "\n",
    "On regarde plus en détail les transactions sur le mois d'octobre 2021."
   ]
  },
  {
   "cell_type": "code",
   "execution_count": 33,
   "id": "c2ac5cf2",
   "metadata": {},
   "outputs": [
    {
     "data": {
      "image/png": "[encoded data removed]",
      "text/plain": [
       "<Figure size 648x360 with 1 Axes>"
      ]
     },
     "metadata": {
      "needs_background": "light"
     },
     "output_type": "display_data"
    }
   ],
   "source": [
    "# On sélectionne les lignes correpondant au mois d'octobre 2021\n",
    "df_oct_21 = df_final.loc[df_final['date'].dt.to_period('M') == \"2021-10\"]\n",
    "\n",
    "# Représentation graphique du nombre de transactions par jour au mois d'octobre 2021 pour chaque catégorie\n",
    "plt.figure(figsize=(9, 5))\n",
    "\n",
    "df_oct_21[df_oct_21['categ']==0].groupby(df_oct_21['date'].dt.day)['date'].count().plot(label='categ 0', marker='o', color='tab:orange')\n",
    "df_oct_21[df_oct_21['categ']==1].groupby(df_oct_21['date'].dt.day)['date'].count().plot(label='categ 1', marker='o', color='tab:green')\n",
    "df_oct_21[df_oct_21['categ']==2].groupby(df_oct_21['date'].dt.day)['date'].count().plot(label='categ 2', marker='o', color='tab:red')\n",
    "\n",
    "plt.xlabel(\"temps (jour)\")\n",
    "plt.ylabel(\"Transactions\")\n",
    "plt.title(\"Nombre de transaction par jour au mois d'octobre 2021\")\n",
    "plt.legend(loc=1)\n",
    "plt.show()"
   ]
  },
  {
   "cell_type": "code",
   "execution_count": 34,
   "id": "6e818379",
   "metadata": {},
   "outputs": [
    {
     "name": "stdout",
     "output_type": "stream",
     "text": [
      "Il y a 31 jours au mois d'octobre 2021 où des produits de catégorie 0 ont été achetés.\n",
      "Il y a 5 jours au mois d'octobre 2021 où des produits de catégorie 1 ont été achetés.\n",
      "Il y a 31 jours au mois d'octobre 2021 où des produits de catégorie 2 ont été achetés.\n"
     ]
    }
   ],
   "source": [
    "# On compte le nombre de jours où il a y eu des transactions\n",
    "df_oct_21_categ0 = df_oct_21.loc[df_oct_21['categ'] == 0]\n",
    "print(\"Il y a\", df_oct_21_categ0['date'].dt.day.nunique(), \"jours au mois d'octobre 2021 où des produits de catégorie 0 ont été achetés.\")\n",
    "\n",
    "df_oct_21_categ1 = df_oct_21.loc[df_oct_21['categ'] == 1]\n",
    "print(\"Il y a\", df_oct_21_categ1['date'].dt.day.nunique(), \"jours au mois d'octobre 2021 où des produits de catégorie 1 ont été achetés.\")\n",
    "\n",
    "df_oct_21_categ2 = df_oct_21.loc[df_oct_21['categ'] == 2]\n",
    "print(\"Il y a\", df_oct_21_categ2['date'].dt.day.nunique(), \"jours au mois d'octobre 2021 où des produits de catégorie 2 ont été achetés.\")"
   ]
  },
  {
   "cell_type": "markdown",
   "id": "04e3ac69",
   "metadata": {},
   "source": [
    "On peut voir sur le graphique qu'il y a des transactions de produits de catégorie 1 pour seulement 5 jours durant le mois d'octobre 2021. Pour les deux autres catégories nous avons des transactions pour tous les jours du mois.  \n",
    "On peut supposer qu'il manque des données sur des transactions concernant des produits de catégorie 1 pour ce mois d'octobre.  \n",
    "\n",
    "On crée une copie du dataframe dans laquelle on garde les données du mois d'octobre pour certaines analyses, puis on supprime les données du mois d'octobre dans le dataframe initial."
   ]
  },
  {
   "cell_type": "code",
   "execution_count": 35,
   "id": "bd6b6217",
   "metadata": {},
   "outputs": [],
   "source": [
    "# On créer une copie de df_final avec les données d'octobre 2021 pour réaliser certaines analyses\n",
    "df_oct_in = df_final.copy()\n",
    "\n",
    "# On met à jour df_final en ne gardant que les dates différentes d'octobre 2021\n",
    "mask = df_final['date'].dt.to_period(\"M\") != '2021-10'\n",
    "df_final = df_final.loc[mask]"
   ]
  },
  {
   "cell_type": "markdown",
   "id": "b66d81be",
   "metadata": {},
   "source": [
    "#### Nombre de transactions par clients <a class=\"anchor\" id=\"section_2_7\"></a>"
   ]
  },
  {
   "cell_type": "code",
   "execution_count": 36,
   "id": "a34f0bc3",
   "metadata": {},
   "outputs": [
    {
     "data": {
      "image/png": "[encoded data removed]",
      "text/plain": [
       "<Figure size 432x288 with 1 Axes>"
      ]
     },
     "metadata": {
      "needs_background": "light"
     },
     "output_type": "display_data"
    },
    {
     "name": "stdout",
     "output_type": "stream",
     "text": [
      "     client_id  nbr_transactions\n",
      "0       c_1609             24472\n",
      "1       c_6714              8903\n",
      "2       c_3454              6635\n",
      "3       c_4958              5090\n",
      "4       c_3263               392\n",
      "...        ...               ...\n",
      "8593    c_4223                 1\n",
      "8594    c_4436                 1\n",
      "8595    c_3927                 1\n",
      "8596    c_4478                 1\n",
      "8597    c_2793                 1\n",
      "\n",
      "[8598 rows x 2 columns]\n"
     ]
    }
   ],
   "source": [
    "# On compte le nombre de fois où les id_client apparaissent dans des transactions\n",
    "df_nbr_achats = df_final['client_id'].value_counts().rename_axis('client_id').reset_index(name='nbr_transactions')\n",
    "\n",
    "# On affiche la boîte à moustache du nombre de transactions par clients\n",
    "df_nbr_achats.boxplot(column='nbr_transactions', vert = False, widths=0.5)\n",
    "plt.grid(False)\n",
    "plt.title(\"distribution du nombre de transactions par clients\")\n",
    "plt.show()\n",
    "\n",
    "print(df_nbr_achats)"
   ]
  },
  {
   "cell_type": "markdown",
   "id": "e485f5c0",
   "metadata": {},
   "source": [
    "Il y a 4 clients qui ont effectué plus de 5000 achats en moins de 2 ans. Ces 4 clients sont identifiés c_1609, c_6714, c_3454 et c_4958. Ce comportement ne semble pas correspondre à des achats pour des besoins personnels.\n",
    "\n",
    "On crée une copie de df_final avec les données des 4 clients, et on supprime les données de ces 4 clients dans le dataframe initial. On crée également un dataframe qui contiendra uniquement les données de ces 4 plus gros clients."
   ]
  },
  {
   "cell_type": "code",
   "execution_count": 37,
   "id": "26f47afc",
   "metadata": {},
   "outputs": [],
   "source": [
    "# On créer une copie de df_final avec les données des 4 clients pour réaliser certaines analyses\n",
    "df_4clients_in = df_final.copy()\n",
    "\n",
    "# On crée un dataframe avec seulement les données des 4 plus gros clients\n",
    "liste = ['c_1609', 'c_6714', 'c_3454', 'c_4958']\n",
    "mask = df_final['client_id'].isin(liste)\n",
    "df_4clients = df_final.loc[mask]\n",
    "\n",
    "# On met à jour df_final sans les 4 plus gros clients \n",
    "liste = ['c_1609', 'c_6714', 'c_3454', 'c_4958']\n",
    "mask = df_final['client_id'].isin(liste)\n",
    "df_final = df_final.loc[~ mask]"
   ]
  },
  {
   "cell_type": "markdown",
   "id": "1525233f",
   "metadata": {},
   "source": [
    "#### Age des clients <a class=\"anchor\" id=\"section_2_8\"></a>"
   ]
  },
  {
   "cell_type": "code",
   "execution_count": 38,
   "id": "82c00c7b",
   "metadata": {
    "scrolled": false
   },
   "outputs": [
    {
     "data": {
      "text/html": [
       "<div>\n",
       "<style scoped>\n",
       "    .dataframe tbody tr th:only-of-type {\n",
       "        vertical-align: middle;\n",
       "    }\n",
       "\n",
       "    .dataframe tbody tr th {\n",
       "        vertical-align: top;\n",
       "    }\n",
       "\n",
       "    .dataframe thead th {\n",
       "        text-align: right;\n",
       "    }\n",
       "</style>\n",
       "<table border=\"1\" class=\"dataframe\">\n",
       "  <thead>\n",
       "    <tr style=\"text-align: right;\">\n",
       "      <th></th>\n",
       "      <th>id_prod</th>\n",
       "      <th>price</th>\n",
       "      <th>categ</th>\n",
       "      <th>date</th>\n",
       "      <th>session_id</th>\n",
       "      <th>client_id</th>\n",
       "      <th>sex</th>\n",
       "      <th>birth</th>\n",
       "      <th>Age</th>\n",
       "    </tr>\n",
       "  </thead>\n",
       "  <tbody>\n",
       "    <tr>\n",
       "      <th>0</th>\n",
       "      <td>0_1421</td>\n",
       "      <td>19.99</td>\n",
       "      <td>0.0</td>\n",
       "      <td>2022-02-20 17:04:37.204937</td>\n",
       "      <td>s_168213</td>\n",
       "      <td>c_6389</td>\n",
       "      <td>f</td>\n",
       "      <td>1991</td>\n",
       "      <td>31</td>\n",
       "    </tr>\n",
       "    <tr>\n",
       "      <th>1</th>\n",
       "      <td>0_1421</td>\n",
       "      <td>19.99</td>\n",
       "      <td>0.0</td>\n",
       "      <td>2022-10-20 17:04:37.204937</td>\n",
       "      <td>s_285450</td>\n",
       "      <td>c_6389</td>\n",
       "      <td>f</td>\n",
       "      <td>1991</td>\n",
       "      <td>31</td>\n",
       "    </tr>\n",
       "    <tr>\n",
       "      <th>3</th>\n",
       "      <td>0_1635</td>\n",
       "      <td>16.99</td>\n",
       "      <td>0.0</td>\n",
       "      <td>2021-04-28 06:08:38.261863</td>\n",
       "      <td>s_26841</td>\n",
       "      <td>c_6389</td>\n",
       "      <td>f</td>\n",
       "      <td>1991</td>\n",
       "      <td>30</td>\n",
       "    </tr>\n",
       "    <tr>\n",
       "      <th>4</th>\n",
       "      <td>0_166</td>\n",
       "      <td>1.83</td>\n",
       "      <td>0.0</td>\n",
       "      <td>2021-07-15 10:35:31.526968</td>\n",
       "      <td>s_62585</td>\n",
       "      <td>c_6389</td>\n",
       "      <td>f</td>\n",
       "      <td>1991</td>\n",
       "      <td>30</td>\n",
       "    </tr>\n",
       "    <tr>\n",
       "      <th>5</th>\n",
       "      <td>0_166</td>\n",
       "      <td>1.83</td>\n",
       "      <td>0.0</td>\n",
       "      <td>2022-10-15 10:35:31.526968</td>\n",
       "      <td>s_282822</td>\n",
       "      <td>c_6389</td>\n",
       "      <td>f</td>\n",
       "      <td>1991</td>\n",
       "      <td>31</td>\n",
       "    </tr>\n",
       "  </tbody>\n",
       "</table>\n",
       "</div>"
      ],
      "text/plain": [
       "  id_prod  price  categ                       date session_id client_id sex  \\\n",
       "0  0_1421  19.99    0.0 2022-02-20 17:04:37.204937   s_168213    c_6389   f   \n",
       "1  0_1421  19.99    0.0 2022-10-20 17:04:37.204937   s_285450    c_6389   f   \n",
       "3  0_1635  16.99    0.0 2021-04-28 06:08:38.261863    s_26841    c_6389   f   \n",
       "4   0_166   1.83    0.0 2021-07-15 10:35:31.526968    s_62585    c_6389   f   \n",
       "5   0_166   1.83    0.0 2022-10-15 10:35:31.526968   s_282822    c_6389   f   \n",
       "\n",
       "   birth  Age  \n",
       "0   1991   31  \n",
       "1   1991   31  \n",
       "3   1991   30  \n",
       "4   1991   30  \n",
       "5   1991   31  "
      ]
     },
     "execution_count": 38,
     "metadata": {},
     "output_type": "execute_result"
    }
   ],
   "source": [
    "# On ajoute une colonne 'Age' qui calcul l'age des clients à partir des dates de naissance et de transactions\n",
    "df_final['Age'] = df_final['date'].dt.year - df_final['birth']\n",
    "df_final.head()"
   ]
  },
  {
   "cell_type": "code",
   "execution_count": 39,
   "id": "9902bc12",
   "metadata": {
    "scrolled": false
   },
   "outputs": [
    {
     "data": {
      "image/png": "[encoded data removed]",
      "text/plain": [
       "<Figure size 1440x576 with 1 Axes>"
      ]
     },
     "metadata": {
      "needs_background": "light"
     },
     "output_type": "display_data"
    }
   ],
   "source": [
    "# On sélectionne l'age et les id_client\n",
    "df_age = df_final[['client_id', 'Age']].copy()\n",
    "df_age.drop_duplicates(inplace=True)\n",
    "\n",
    "# On calcul la fréquence d'apparition pour chaque age\n",
    "df_age = df_age['Age'].value_counts(normalize=True).rename_axis('Age').reset_index(name='Fréquence').sort_values('Age')\n",
    "\n",
    "# Représentation barplot de la variable Age\n",
    "plt.figure(figsize=(20, 8))\n",
    "plt.bar(df_age['Age'], df_age['Fréquence'])\n",
    "plt.title(\"Age des clients\", fontsize=20)\n",
    "plt.xlabel(\"Age\", fontsize=15)\n",
    "plt.ylabel(\"Fréquence\", fontsize=15)\n",
    "plt.show()"
   ]
  },
  {
   "cell_type": "markdown",
   "id": "fe83deb5",
   "metadata": {},
   "source": [
    "On observe une part importante de clients de 18 et 19 ans. On a également un grand nombre de clients qui ont entre 33 et 35 ans et entre 40 et 45 ans."
   ]
  },
  {
   "cell_type": "markdown",
   "id": "82b46d8a",
   "metadata": {},
   "source": [
    "## Exportation des données <a class=\"anchor\" id=\"chapter3\"></a>"
   ]
  },
  {
   "cell_type": "code",
   "execution_count": 40,
   "id": "8a3d06aa",
   "metadata": {},
   "outputs": [],
   "source": [
    "# Exportation des données au format csv\n",
    "df_final.to_csv(\"C:/Users/jorda/P6/Data/df_final.csv\", index=False)\n",
    "df_oct_in.to_csv(\"C:/Users/jorda/P6/Data/df_oct_in.csv\", index=False)\n",
    "df_4clients_in.to_csv(\"C:/Users/jorda/P6/Data/df_4clients_in.csv\", index=False)\n",
    "df_products_nosale.to_csv(\"C:/Users/jorda/P6/Data/df_products_nosale.csv\", index=False)"
   ]
  }
 ],
 "metadata": {
  "kernelspec": {
   "display_name": "Python 3 (ipykernel)",
   "language": "python",
   "name": "python3"
  },
  "language_info": {
   "codemirror_mode": {
    "name": "ipython",
    "version": 3
   },
   "file_extension": ".py",
   "mimetype": "text/x-python",
   "name": "python",
   "nbconvert_exporter": "python",
   "pygments_lexer": "ipython3",
   "version": "3.9.7"
  }
 },
 "nbformat": 4,
 "nbformat_minor": 5
}
